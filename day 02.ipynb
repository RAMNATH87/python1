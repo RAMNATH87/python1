{
 "cells": [
  {
   "cell_type": "code",
   "execution_count": 1,
   "id": "64f00db5-3ae1-43c5-88fe-ef0442353cf5",
   "metadata": {},
   "outputs": [],
   "source": [
    "word=\"python\""
   ]
  },
  {
   "cell_type": "code",
   "execution_count": 3,
   "id": "94cbdef9-ae81-46f4-b678-9996b5760ac1",
   "metadata": {},
   "outputs": [
    {
     "name": "stdout",
     "output_type": "stream",
     "text": [
      "python\n"
     ]
    }
   ],
   "source": [
    "print(word)"
   ]
  },
  {
   "cell_type": "code",
   "execution_count": 9,
   "id": "ea487e51-ac98-4b28-9a1a-ebbcaa0c25c5",
   "metadata": {},
   "outputs": [
    {
     "data": {
      "text/plain": [
       "'ython'"
      ]
     },
     "execution_count": 9,
     "metadata": {},
     "output_type": "execute_result"
    }
   ],
   "source": [
    "word[1:]"
   ]
  },
  {
   "cell_type": "code",
   "execution_count": 11,
   "id": "10744c24-24c9-4180-a3fd-456a9bb5c6eb",
   "metadata": {},
   "outputs": [
    {
     "data": {
      "text/plain": [
       "'th'"
      ]
     },
     "execution_count": 11,
     "metadata": {},
     "output_type": "execute_result"
    }
   ],
   "source": [
    "word[2:4]"
   ]
  },
  {
   "cell_type": "code",
   "execution_count": 13,
   "id": "aabc72bd-6d43-4cd6-843e-a3abbba1efdf",
   "metadata": {},
   "outputs": [],
   "source": [
    "word=\"hello world\""
   ]
  },
  {
   "cell_type": "code",
   "execution_count": 17,
   "id": "3cfb3306-462d-4148-a866-2bbbe86f5e48",
   "metadata": {},
   "outputs": [
    {
     "data": {
      "text/plain": [
       "'o w'"
      ]
     },
     "execution_count": 17,
     "metadata": {},
     "output_type": "execute_result"
    }
   ],
   "source": [
    "word[4:7]"
   ]
  },
  {
   "cell_type": "code",
   "execution_count": 19,
   "id": "7c0196d1-d297-4f92-bf98-c4828eecfd8d",
   "metadata": {},
   "outputs": [],
   "source": [
    "word1=\"python programming\""
   ]
  },
  {
   "cell_type": "code",
   "execution_count": 21,
   "id": "68bd1ac3-9863-4d4b-ac58-11e19a9afbae",
   "metadata": {},
   "outputs": [
    {
     "data": {
      "text/plain": [
       "'g'"
      ]
     },
     "execution_count": 21,
     "metadata": {},
     "output_type": "execute_result"
    }
   ],
   "source": [
    "word1[-1]"
   ]
  },
  {
   "cell_type": "code",
   "execution_count": 23,
   "id": "40f74cab-cd7f-48d0-8855-4b37e578474b",
   "metadata": {},
   "outputs": [
    {
     "data": {
      "text/plain": [
       "'ming'"
      ]
     },
     "execution_count": 23,
     "metadata": {},
     "output_type": "execute_result"
    }
   ],
   "source": [
    "word1[-4:]"
   ]
  },
  {
   "cell_type": "code",
   "execution_count": 25,
   "id": "5d82ba0f-07bf-470b-ba07-1f1fe729ab4e",
   "metadata": {},
   "outputs": [
    {
     "data": {
      "text/plain": [
       "'mmin'"
      ]
     },
     "execution_count": 25,
     "metadata": {},
     "output_type": "execute_result"
    }
   ],
   "source": [
    "word1[-5:-1]"
   ]
  },
  {
   "cell_type": "markdown",
   "id": "78708313-47d2-41b9-9f03-6ae753f9fd97",
   "metadata": {},
   "source": [
    "g=-1\n",
    "n=-2\n",
    "i=-3\n",
    "m=-4\n",
    "m=-5\n",
    "a=-6"
   ]
  },
  {
   "cell_type": "code",
   "execution_count": 38,
   "id": "76ef462f-6967-41f0-8d84-0d36bf1ec541",
   "metadata": {},
   "outputs": [
    {
     "data": {
      "text/plain": [
       "'python'"
      ]
     },
     "execution_count": 38,
     "metadata": {},
     "output_type": "execute_result"
    }
   ],
   "source": [
    "a=\"python\"\n",
    "a.upper()\n",
    "a\n"
   ]
  },
  {
   "cell_type": "code",
   "execution_count": 30,
   "id": "b8ab2a05-f0f2-477d-8930-9a13d0a0fded",
   "metadata": {},
   "outputs": [],
   "source": [
    "a=\"python\""
   ]
  },
  {
   "cell_type": "code",
   "execution_count": 32,
   "id": "7ad87ad0-38e2-40a3-84bf-1e99f04327e7",
   "metadata": {},
   "outputs": [],
   "source": [
    "a=a.upper()"
   ]
  },
  {
   "cell_type": "code",
   "execution_count": 34,
   "id": "2dddc896-c6c3-4ada-bbf7-4ef09e04b4cc",
   "metadata": {},
   "outputs": [
    {
     "data": {
      "text/plain": [
       "'PYTHON'"
      ]
     },
     "execution_count": 34,
     "metadata": {},
     "output_type": "execute_result"
    }
   ],
   "source": [
    "a"
   ]
  },
  {
   "cell_type": "code",
   "execution_count": 40,
   "id": "9df4a281-7f6b-4889-bc86-3cb6d3086e85",
   "metadata": {},
   "outputs": [],
   "source": [
    "a=\"python\""
   ]
  },
  {
   "cell_type": "code",
   "execution_count": 42,
   "id": "f0b22b90-051f-45b4-be58-522b2fc8632b",
   "metadata": {},
   "outputs": [
    {
     "data": {
      "text/plain": [
       "'Python'"
      ]
     },
     "execution_count": 42,
     "metadata": {},
     "output_type": "execute_result"
    }
   ],
   "source": [
    "a.capitalize()"
   ]
  },
  {
   "cell_type": "code",
   "execution_count": 44,
   "id": "6e1f60aa-6e59-418c-90de-e26acf5b5ff3",
   "metadata": {},
   "outputs": [
    {
     "data": {
      "text/plain": [
       "'python is easy to learn'"
      ]
     },
     "execution_count": 44,
     "metadata": {},
     "output_type": "execute_result"
    }
   ],
   "source": [
    "a=\"python is hard to learn\"\n",
    "a.replace(\"hard\",\"easy\")"
   ]
  },
  {
   "cell_type": "code",
   "execution_count": 46,
   "id": "15c3584f-5289-448a-a820-0af808c2b057",
   "metadata": {},
   "outputs": [
    {
     "data": {
      "text/plain": [
       "'python is hard to learn'"
      ]
     },
     "execution_count": 46,
     "metadata": {},
     "output_type": "execute_result"
    }
   ],
   "source": [
    "a"
   ]
  },
  {
   "cell_type": "code",
   "execution_count": 48,
   "id": "c07fdf2b-eb71-44cd-abac-488fb3b00c2f",
   "metadata": {},
   "outputs": [
    {
     "data": {
      "text/plain": [
       "'java is easy to learn'"
      ]
     },
     "execution_count": 48,
     "metadata": {},
     "output_type": "execute_result"
    }
   ],
   "source": [
    "a.replace(\"python\",\"java\").replace(\"hard\",\"easy\")"
   ]
  },
  {
   "cell_type": "code",
   "execution_count": 50,
   "id": "4a2412af-722b-43f0-924c-def223338f82",
   "metadata": {},
   "outputs": [],
   "source": [
    "h=\"hii good\""
   ]
  },
  {
   "cell_type": "code",
   "execution_count": 52,
   "id": "40abc793-403b-4aa4-8f6a-2fe788799ef1",
   "metadata": {},
   "outputs": [
    {
     "data": {
      "text/plain": [
       "'Hii Good'"
      ]
     },
     "execution_count": 52,
     "metadata": {},
     "output_type": "execute_result"
    }
   ],
   "source": [
    "h.title()"
   ]
  },
  {
   "cell_type": "code",
   "execution_count": 54,
   "id": "4453bfae-e9ce-48ee-9afc-65f58297f484",
   "metadata": {},
   "outputs": [
    {
     "data": {
      "text/plain": [
       "'python programming'"
      ]
     },
     "execution_count": 54,
     "metadata": {},
     "output_type": "execute_result"
    }
   ],
   "source": [
    "word1"
   ]
  },
  {
   "cell_type": "code",
   "execution_count": 56,
   "id": "b2b890e8-5260-40cc-bbaa-745baa3744d2",
   "metadata": {},
   "outputs": [
    {
     "data": {
      "text/plain": [
       "'gnim'"
      ]
     },
     "execution_count": 56,
     "metadata": {},
     "output_type": "execute_result"
    }
   ],
   "source": [
    "word1[-1:-5:-1]"
   ]
  },
  {
   "cell_type": "code",
   "execution_count": 58,
   "id": "7be091b5-5a46-497c-b644-54a227ff2633",
   "metadata": {},
   "outputs": [],
   "source": [
    "word=\"   hello   \""
   ]
  },
  {
   "cell_type": "code",
   "execution_count": 60,
   "id": "b1bf2222-9bc3-4cb0-a3f8-9a47a5c0233a",
   "metadata": {},
   "outputs": [
    {
     "data": {
      "text/plain": [
       "'hello'"
      ]
     },
     "execution_count": 60,
     "metadata": {},
     "output_type": "execute_result"
    }
   ],
   "source": [
    "word.strip()"
   ]
  },
  {
   "cell_type": "code",
   "execution_count": 62,
   "id": "a85ac1d4-7b70-4821-b393-459fdad1d538",
   "metadata": {},
   "outputs": [
    {
     "data": {
      "text/plain": [
       "'   hello'"
      ]
     },
     "execution_count": 62,
     "metadata": {},
     "output_type": "execute_result"
    }
   ],
   "source": [
    "word.rstrip()"
   ]
  },
  {
   "cell_type": "code",
   "execution_count": 64,
   "id": "71c6fc0c-cc2d-4f63-b768-e04a990cc3cb",
   "metadata": {},
   "outputs": [
    {
     "data": {
      "text/plain": [
       "'hello   '"
      ]
     },
     "execution_count": 64,
     "metadata": {},
     "output_type": "execute_result"
    }
   ],
   "source": [
    "word.lstrip()"
   ]
  },
  {
   "cell_type": "code",
   "execution_count": 72,
   "id": "9ff010b3-a95a-4431-bbdf-84daa9993723",
   "metadata": {},
   "outputs": [
    {
     "data": {
      "text/plain": [
       "'    hello   world '"
      ]
     },
     "execution_count": 72,
     "metadata": {},
     "output_type": "execute_result"
    }
   ],
   "source": [
    "word=\"    hello   world \"\n",
    "word"
   ]
  },
  {
   "cell_type": "code",
   "execution_count": 68,
   "id": "50e8773d-7b1b-4ed3-9110-d34e81090ec6",
   "metadata": {},
   "outputs": [
    {
     "data": {
      "text/plain": [
       "'hello   world'"
      ]
     },
     "execution_count": 68,
     "metadata": {},
     "output_type": "execute_result"
    }
   ],
   "source": [
    "word.strip()"
   ]
  },
  {
   "cell_type": "code",
   "execution_count": 75,
   "id": "28938a69-91dc-420a-a3db-d482599e510d",
   "metadata": {},
   "outputs": [],
   "source": [
    "word=\"@#@#@@@sla\""
   ]
  },
  {
   "cell_type": "code",
   "execution_count": 77,
   "id": "7aee4064-288f-4485-874d-46a18c8430b6",
   "metadata": {},
   "outputs": [
    {
     "data": {
      "text/plain": [
       "'sla'"
      ]
     },
     "execution_count": 77,
     "metadata": {},
     "output_type": "execute_result"
    }
   ],
   "source": [
    "word.strip(\"#@\")"
   ]
  },
  {
   "cell_type": "markdown",
   "id": "fac9f003-8af4-4af6-be9e-09bffb1af37a",
   "metadata": {},
   "source": [
    "list[]"
   ]
  },
  {
   "cell_type": "code",
   "execution_count": 132,
   "id": "8a9f6192-8bcf-49b1-84b7-592c4f21f430",
   "metadata": {},
   "outputs": [
    {
     "data": {
      "text/plain": [
       "[10, 20, 40, 50, 10, 'sla']"
      ]
     },
     "execution_count": 132,
     "metadata": {},
     "output_type": "execute_result"
    }
   ],
   "source": [
    "\n",
    "course=[10,20,40,50,10,\"sla\"]\n",
    "course"
   ]
  },
  {
   "cell_type": "markdown",
   "id": "88641b43-eb66-4767-86a4-e541c751ee0d",
   "metadata": {},
   "source": [
    "evalution"
   ]
  },
  {
   "cell_type": "code",
   "execution_count": 95,
   "id": "cbecf085-11d0-4915-a9e3-a9218b359943",
   "metadata": {},
   "outputs": [],
   "source": [
    "name=\"python is bad language\"   #good\n",
    "h=\"i am good at study\" #at (negative index)\n",
    "o=\"i study well\"  "
   ]
  },
  {
   "cell_type": "code",
   "execution_count": 97,
   "id": "602ca6ec-f3ed-4904-bef3-7017b68bef3e",
   "metadata": {},
   "outputs": [
    {
     "data": {
      "text/plain": [
       "'python is bad language'"
      ]
     },
     "execution_count": 97,
     "metadata": {},
     "output_type": "execute_result"
    }
   ],
   "source": [
    "name"
   ]
  },
  {
   "cell_type": "code",
   "execution_count": 101,
   "id": "fb19f130-b985-4776-8603-5909fbcff286",
   "metadata": {},
   "outputs": [
    {
     "data": {
      "text/plain": [
       "'python is good language'"
      ]
     },
     "execution_count": 101,
     "metadata": {},
     "output_type": "execute_result"
    }
   ],
   "source": [
    "name.replace(\"bad\",\"good\")"
   ]
  },
  {
   "cell_type": "code",
   "execution_count": 104,
   "id": "680ef4ba-31c9-4e40-a635-b17c44a069ba",
   "metadata": {},
   "outputs": [
    {
     "data": {
      "text/plain": [
       "'i am good at study'"
      ]
     },
     "execution_count": 104,
     "metadata": {},
     "output_type": "execute_result"
    }
   ],
   "source": [
    "h"
   ]
  },
  {
   "cell_type": "code",
   "execution_count": 118,
   "id": "8aabe2c3-7e6d-4563-8f8f-8c58760005e0",
   "metadata": {},
   "outputs": [
    {
     "data": {
      "text/plain": [
       "'at'"
      ]
     },
     "execution_count": 118,
     "metadata": {},
     "output_type": "execute_result"
    }
   ],
   "source": [
    "h[-8:-6]"
   ]
  },
  {
   "cell_type": "code",
   "execution_count": 120,
   "id": "9a54fac4-d2a6-441f-9659-621e8bdfc89f",
   "metadata": {},
   "outputs": [
    {
     "data": {
      "text/plain": [
       "'i study well'"
      ]
     },
     "execution_count": 120,
     "metadata": {},
     "output_type": "execute_result"
    }
   ],
   "source": [
    "o"
   ]
  },
  {
   "cell_type": "code",
   "execution_count": 122,
   "id": "8a38892d-8393-432b-907a-9f1fe6cb1780",
   "metadata": {},
   "outputs": [
    {
     "data": {
      "text/plain": [
       "'I Study Well'"
      ]
     },
     "execution_count": 122,
     "metadata": {},
     "output_type": "execute_result"
    }
   ],
   "source": [
    "o.title()"
   ]
  },
  {
   "cell_type": "code",
   "execution_count": 134,
   "id": "644f1d94-5020-4773-8311-00c806c3675c",
   "metadata": {},
   "outputs": [
    {
     "data": {
      "text/plain": [
       "[10, 20, 40, 50, 10, 'sla']"
      ]
     },
     "execution_count": 134,
     "metadata": {},
     "output_type": "execute_result"
    }
   ],
   "source": [
    "course"
   ]
  },
  {
   "cell_type": "code",
   "execution_count": 136,
   "id": "910d8e7a-f229-4212-ab93-fb1572961f29",
   "metadata": {},
   "outputs": [],
   "source": [
    "course.append(100)"
   ]
  },
  {
   "cell_type": "code",
   "execution_count": 138,
   "id": "f31eb832-95a0-4bc3-8d44-7d04579b6fdf",
   "metadata": {},
   "outputs": [
    {
     "data": {
      "text/plain": [
       "[10, 20, 40, 50, 10, 'sla', 100]"
      ]
     },
     "execution_count": 138,
     "metadata": {},
     "output_type": "execute_result"
    }
   ],
   "source": [
    "course"
   ]
  },
  {
   "cell_type": "code",
   "execution_count": 140,
   "id": "30343a1d-b93c-4ba7-9c93-d388081b9642",
   "metadata": {},
   "outputs": [
    {
     "data": {
      "text/plain": [
       "[10, 20, 40, 50, 10, 'sla', 100]"
      ]
     },
     "execution_count": 140,
     "metadata": {},
     "output_type": "execute_result"
    }
   ],
   "source": [
    "course"
   ]
  },
  {
   "cell_type": "code",
   "execution_count": 153,
   "id": "d137c842-c6df-430a-934f-7f7bca0f4f2a",
   "metadata": {},
   "outputs": [],
   "source": [
    "course.extend([110,120,\"py\"])"
   ]
  },
  {
   "cell_type": "code",
   "execution_count": 151,
   "id": "2775db1c-c264-4c40-8c70-27ff36b74564",
   "metadata": {},
   "outputs": [
    {
     "data": {
      "text/plain": [
       "[10, 20, 40, 50, 10, 'sla', 100, 110, 120, 'py']"
      ]
     },
     "execution_count": 151,
     "metadata": {},
     "output_type": "execute_result"
    }
   ],
   "source": [
    "course"
   ]
  },
  {
   "cell_type": "code",
   "execution_count": 155,
   "id": "5b259f12-debc-434d-b4b8-f51edd5ef295",
   "metadata": {},
   "outputs": [],
   "source": [
    "num=[10,20,40,50]"
   ]
  },
  {
   "cell_type": "code",
   "execution_count": 157,
   "id": "87e35cf1-4d09-491a-9b6e-88ba57b57a30",
   "metadata": {},
   "outputs": [
    {
     "data": {
      "text/plain": [
       "[10, 20, 40, 50]"
      ]
     },
     "execution_count": 157,
     "metadata": {},
     "output_type": "execute_result"
    }
   ],
   "source": [
    "num"
   ]
  },
  {
   "cell_type": "code",
   "execution_count": 159,
   "id": "c8967796-03e2-44aa-a866-eacf1773a23f",
   "metadata": {},
   "outputs": [],
   "source": [
    "num.insert(2,30)"
   ]
  },
  {
   "cell_type": "code",
   "execution_count": 162,
   "id": "1c0c36fd-7d17-4478-bc59-0c43560c6f71",
   "metadata": {},
   "outputs": [
    {
     "data": {
      "text/plain": [
       "[10, 20, 30, 40, 50]"
      ]
     },
     "execution_count": 162,
     "metadata": {},
     "output_type": "execute_result"
    }
   ],
   "source": [
    "num"
   ]
  },
  {
   "cell_type": "markdown",
   "id": "12bdae44-d370-4253-8244-07961041a4bf",
   "metadata": {},
   "source": [
    "  EVALUATION\n",
    "  "
   ]
  },
  {
   "cell_type": "code",
   "execution_count": 2,
   "id": "42c87b4a-aba7-47bd-83f1-92d98423bf11",
   "metadata": {},
   "outputs": [],
   "source": [
    "k=\"today I learn python\""
   ]
  },
  {
   "cell_type": "code",
   "execution_count": 4,
   "id": "2d443175-1249-46f1-b980-c4d15d67ab4c",
   "metadata": {},
   "outputs": [
    {
     "data": {
      "text/plain": [
       "'yesterday I learn python'"
      ]
     },
     "execution_count": 4,
     "metadata": {},
     "output_type": "execute_result"
    }
   ],
   "source": [
    "k.replace(\"today\",\"yesterday\")"
   ]
  },
  {
   "cell_type": "code",
   "execution_count": 6,
   "id": "34f0d32e-4953-4f6e-b6aa-56ca6fda6556",
   "metadata": {},
   "outputs": [],
   "source": [
    "word=\"####hello####\""
   ]
  },
  {
   "cell_type": "code",
   "execution_count": 12,
   "id": "ec89de9f-acb5-4a3d-a505-afc181780406",
   "metadata": {},
   "outputs": [
    {
     "data": {
      "text/plain": [
       "'hello'"
      ]
     },
     "execution_count": 12,
     "metadata": {},
     "output_type": "execute_result"
    }
   ],
   "source": [
    "word.strip(\"#\")"
   ]
  },
  {
   "cell_type": "code",
   "execution_count": 14,
   "id": "2509874c-f2c5-41d8-bec1-2faffe78f045",
   "metadata": {},
   "outputs": [],
   "source": [
    "course=[\"python\",\"powerbi\",\"sql\"]"
   ]
  },
  {
   "cell_type": "code",
   "execution_count": 16,
   "id": "da22afa8-36fe-4624-99dc-3a27d7adc1e4",
   "metadata": {},
   "outputs": [],
   "source": [
    "course.append(\"ML\")"
   ]
  },
  {
   "cell_type": "code",
   "execution_count": 18,
   "id": "4d87a73c-93ee-44b3-baa4-5a3443301410",
   "metadata": {},
   "outputs": [
    {
     "data": {
      "text/plain": [
       "['python', 'powerbi', 'sql', 'ML']"
      ]
     },
     "execution_count": 18,
     "metadata": {},
     "output_type": "execute_result"
    }
   ],
   "source": [
    "course"
   ]
  },
  {
   "cell_type": "code",
   "execution_count": 20,
   "id": "ae5ef911-3c62-4855-8661-9b279723f620",
   "metadata": {},
   "outputs": [],
   "source": [
    "course.insert(1,\"excel\")"
   ]
  },
  {
   "cell_type": "code",
   "execution_count": 22,
   "id": "2058e2a1-467b-46f1-8a3e-d213945d5c45",
   "metadata": {},
   "outputs": [
    {
     "data": {
      "text/plain": [
       "['python', 'excel', 'powerbi', 'sql', 'ML']"
      ]
     },
     "execution_count": 22,
     "metadata": {},
     "output_type": "execute_result"
    }
   ],
   "source": [
    "course"
   ]
  },
  {
   "cell_type": "code",
   "execution_count": 28,
   "id": "cb7ce053-7b45-44eb-b1da-61529d795cd5",
   "metadata": {},
   "outputs": [],
   "source": [
    "course.extend([\"deep learning\",\"AI\"])"
   ]
  },
  {
   "cell_type": "code",
   "execution_count": 30,
   "id": "fb379d6f-0ae0-46aa-bea9-8cb4115b119f",
   "metadata": {},
   "outputs": [
    {
     "data": {
      "text/plain": [
       "['python', 'excel', 'powerbi', 'sql', 'ML', 'deep learning', 'AI']"
      ]
     },
     "execution_count": 30,
     "metadata": {},
     "output_type": "execute_result"
    }
   ],
   "source": [
    "course"
   ]
  },
  {
   "cell_type": "code",
   "execution_count": 32,
   "id": "86e87824-a27d-4c6e-a281-f05f082dc064",
   "metadata": {},
   "outputs": [],
   "source": [
    "course.insert(1,\"Django\")"
   ]
  },
  {
   "cell_type": "code",
   "execution_count": 34,
   "id": "f3b66d7f-8bd6-46f9-91a2-a178bfab4138",
   "metadata": {},
   "outputs": [
    {
     "data": {
      "text/plain": [
       "['python', 'Django', 'excel', 'powerbi', 'sql', 'ML', 'deep learning', 'AI']"
      ]
     },
     "execution_count": 34,
     "metadata": {},
     "output_type": "execute_result"
    }
   ],
   "source": [
    "course"
   ]
  },
  {
   "cell_type": "code",
   "execution_count": 42,
   "id": "179c72e7-53a5-4c4d-aa67-d40f8f0763ac",
   "metadata": {},
   "outputs": [],
   "source": [
    "sentence=\"I went to bank yesterday\""
   ]
  },
  {
   "cell_type": "code",
   "execution_count": 44,
   "id": "236de34b-0e6a-4da0-a1c2-36e0d673b876",
   "metadata": {},
   "outputs": [
    {
     "data": {
      "text/plain": [
       "'I went to bank yesterday'"
      ]
     },
     "execution_count": 44,
     "metadata": {},
     "output_type": "execute_result"
    }
   ],
   "source": [
    "sentence"
   ]
  },
  {
   "cell_type": "code",
   "execution_count": 46,
   "id": "14ffac8e-53b7-4f35-ad44-2790917411d8",
   "metadata": {},
   "outputs": [
    {
     "data": {
      "text/plain": [
       "'went'"
      ]
     },
     "execution_count": 46,
     "metadata": {},
     "output_type": "execute_result"
    }
   ],
   "source": [
    "sentence[2:6]"
   ]
  },
  {
   "cell_type": "code",
   "execution_count": 54,
   "id": "0f311e17-f9b2-4993-a7fd-ab1003dd9643",
   "metadata": {},
   "outputs": [
    {
     "data": {
      "text/plain": [
       "'bank'"
      ]
     },
     "execution_count": 54,
     "metadata": {},
     "output_type": "execute_result"
    }
   ],
   "source": [
    "sentence[-14:-10]"
   ]
  },
  {
   "cell_type": "code",
   "execution_count": 10,
   "id": "046309f5-f7d4-48f2-a745-426a5a0fe230",
   "metadata": {},
   "outputs": [],
   "source": [
    "\n",
    "\n",
    "a=\"python\""
   ]
  },
  {
   "cell_type": "code",
   "execution_count": 12,
   "id": "ee2f61d8-38c5-4cc8-85ec-11d42f4956b8",
   "metadata": {},
   "outputs": [
    {
     "data": {
      "text/plain": [
       "'PYTHON'"
      ]
     },
     "execution_count": 12,
     "metadata": {},
     "output_type": "execute_result"
    }
   ],
   "source": [
    "a.upper()"
   ]
  },
  {
   "cell_type": "code",
   "execution_count": 15,
   "id": "a2c14166-0421-4126-9a01-e7e50ea0727e",
   "metadata": {},
   "outputs": [
    {
     "data": {
      "text/plain": [
       "'python'"
      ]
     },
     "execution_count": 15,
     "metadata": {},
     "output_type": "execute_result"
    }
   ],
   "source": [
    "a"
   ]
  },
  {
   "cell_type": "code",
   "execution_count": null,
   "id": "9359c39d-060d-4baa-a181-91696822229b",
   "metadata": {},
   "outputs": [],
   "source": []
  }
 ],
 "metadata": {
  "kernelspec": {
   "display_name": "Python [conda env:base] *",
   "language": "python",
   "name": "conda-base-py"
  },
  "language_info": {
   "codemirror_mode": {
    "name": "ipython",
    "version": 3
   },
   "file_extension": ".py",
   "mimetype": "text/x-python",
   "name": "python",
   "nbconvert_exporter": "python",
   "pygments_lexer": "ipython3",
   "version": "3.12.7"
  }
 },
 "nbformat": 4,
 "nbformat_minor": 5
}
