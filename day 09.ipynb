{
 "cells": [
  {
   "cell_type": "code",
   "execution_count": 7,
   "id": "37c4ef57-fc6e-4cf8-af96-4b1f221d7398",
   "metadata": {},
   "outputs": [
    {
     "name": "stdin",
     "output_type": "stream",
     "text": [
      "enter your name \n",
      "enter your name \n",
      "enter your name \n",
      "enter your name ram\n"
     ]
    },
    {
     "name": "stdout",
     "output_type": "stream",
     "text": [
      "your name is ram\n"
     ]
    }
   ],
   "source": [
    "name=str(input(\"enter your name\"))\n",
    "while name==\"\":\n",
    "    name=str(input(\"enter your name\"))\n",
    "print(f\"your name is {name}\")\n",
    "\n",
    "    \n",
    "        "
   ]
  },
  {
   "cell_type": "code",
   "execution_count": 15,
   "id": "d7090b0d-8505-4b75-acef-3ec5442966b1",
   "metadata": {},
   "outputs": [
    {
     "name": "stdin",
     "output_type": "stream",
     "text": [
      "enter your name \n"
     ]
    },
    {
     "name": "stdout",
     "output_type": "stream",
     "text": [
      "you have not enter your name\n"
     ]
    }
   ],
   "source": [
    "name=str(input(\"enter your name\"))\n",
    "if name==\"\":\n",
    "    print(\"you have not enter your name\")\n",
    "else :\n",
    "    print(f\"your name is {name}\")\n",
    "    "
   ]
  },
  {
   "cell_type": "code",
   "execution_count": 3,
   "id": "4f3c155e-81a5-4d65-b594-7f0021549623",
   "metadata": {},
   "outputs": [
    {
     "name": "stdin",
     "output_type": "stream",
     "text": [
      "enter your age 3\n",
      "enter your age 3\n",
      "enter your age 2\n",
      "enter your age 2\n",
      "enter your age 3\n",
      "enter your age 23\n"
     ]
    },
    {
     "name": "stdout",
     "output_type": "stream",
     "text": [
      "your age is 23\n"
     ]
    }
   ],
   "source": [
    "age=int(input(\"enter your age\"))\n",
    "while age<18:\n",
    "    age=int(input(\"enter your age\"))\n",
    "print(f\"your age is {age}\")\n",
    "    "
   ]
  },
  {
   "cell_type": "code",
   "execution_count": 19,
   "id": "43af8445-2f00-4f83-ac40-a41eaccaf571",
   "metadata": {},
   "outputs": [
    {
     "name": "stdout",
     "output_type": "stream",
     "text": [
      "1\n",
      "2\n",
      "3\n",
      "4\n",
      "5\n",
      "6\n",
      "7\n",
      "8\n",
      "9\n",
      "10\n"
     ]
    }
   ],
   "source": [
    "num=1\n",
    "while num<=10:\n",
    "    print(num)\n",
    "    num=num+1"
   ]
  },
  {
   "cell_type": "code",
   "execution_count": 21,
   "id": "a15a3dc7-9ed8-446b-b326-796b8b0b8543",
   "metadata": {},
   "outputs": [
    {
     "name": "stdout",
     "output_type": "stream",
     "text": [
      "10\n",
      "9\n",
      "8\n",
      "7\n",
      "6\n",
      "5\n",
      "4\n",
      "3\n",
      "2\n",
      "1\n"
     ]
    }
   ],
   "source": [
    "num=10\n",
    "while num>=1:\n",
    "    print(num)\n",
    "    num=num-1"
   ]
  },
  {
   "cell_type": "code",
   "execution_count": 27,
   "id": "b3c85b40-3e2c-4060-99a8-7a2a1905c04f",
   "metadata": {},
   "outputs": [
    {
     "name": "stdout",
     "output_type": "stream",
     "text": [
      "1\n",
      "2\n",
      "3\n",
      "4\n",
      "5\n",
      "6\n",
      "7\n",
      "8\n",
      "9\n",
      "10\n"
     ]
    }
   ],
   "source": [
    "for i in range(1,11):\n",
    "    print(i)\n",
    "    "
   ]
  },
  {
   "cell_type": "code",
   "execution_count": 41,
   "id": "31679126-1c4d-4dca-a48a-1793138d169c",
   "metadata": {},
   "outputs": [
    {
     "name": "stdout",
     "output_type": "stream",
     "text": [
      "10\n",
      "23\n",
      "45\n",
      "22\n",
      "33\n"
     ]
    }
   ],
   "source": [
    "#break\n",
    "n=[10,23,45,22,33,90,11,34]\n",
    "for i in n:\n",
    "    print(i)\n",
    "    if i==33:\n",
    "      break\n",
    "    "
   ]
  },
  {
   "cell_type": "code",
   "execution_count": 49,
   "id": "f4d3d95b-1571-4f8c-87cb-eb7b94512181",
   "metadata": {},
   "outputs": [
    {
     "name": "stdin",
     "output_type": "stream",
     "text": [
      "enter a number 5\n"
     ]
    },
    {
     "name": "stdout",
     "output_type": "stream",
     "text": [
      "120\n"
     ]
    }
   ],
   "source": [
    "num=int(input(\"enter a number\"))\n",
    "fact=1\n",
    "i=1\n",
    "while i<=num:\n",
    "    fact=fact*i\n",
    "    i=i+1\n",
    "print(fact)"
   ]
  },
  {
   "cell_type": "code",
   "execution_count": 64,
   "id": "299cee6e-fb50-4702-a951-f2fb02180713",
   "metadata": {},
   "outputs": [
    {
     "name": "stdout",
     "output_type": "stream",
     "text": [
      "1\n",
      "4\n",
      "9\n",
      "16\n",
      "25\n",
      "36\n",
      "49\n",
      "64\n",
      "81\n",
      "100\n"
     ]
    }
   ],
   "source": [
    "num=1\n",
    "while num<=10:\n",
    "    print(num**2)\n",
    "    num=num+1"
   ]
  },
  {
   "cell_type": "code",
   "execution_count": 1,
   "id": "1a12acf1-2cab-4cf6-b1eb-15da6da40fae",
   "metadata": {},
   "outputs": [
    {
     "name": "stdin",
     "output_type": "stream",
     "text": [
      "enter a num 5\n"
     ]
    },
    {
     "name": "stdout",
     "output_type": "stream",
     "text": [
      "1 x 5 = 5\n",
      "2 x 5 = 10\n",
      "3 x 5 = 15\n",
      "4 x 5 = 20\n",
      "5 x 5 = 25\n",
      "6 x 5 = 30\n",
      "7 x 5 = 35\n",
      "8 x 5 = 40\n",
      "9 x 5 = 45\n",
      "10 x 5 = 50\n"
     ]
    }
   ],
   "source": [
    "table=int(input(\"enter a num\"))\n",
    "i=1\n",
    "while i<=10:\n",
    "    ans=i*table\n",
    "    print(i,\"x\",table,\"=\",ans)\n",
    "    i=i+1\n",
    "    "
   ]
  },
  {
   "cell_type": "markdown",
   "id": "a9d954b2-447f-4327-87e3-1de4b3688ea1",
   "metadata": {},
   "source": [
    "TASK"
   ]
  },
  {
   "cell_type": "code",
   "execution_count": 26,
   "id": "ecdf0d0e-c277-4cd0-a9df-780661d73d0b",
   "metadata": {},
   "outputs": [
    {
     "name": "stdout",
     "output_type": "stream",
     "text": [
      "karthik raja\n",
      "abdul\n",
      "ruban\n",
      "ram kumar\n"
     ]
    }
   ],
   "source": [
    "name=[\"karthik raja\",\"abdul\",\"ruban\",\"ram kumar\",\"buvanesh\"]\n",
    "for i in name:\n",
    "    print(i)\n",
    "    if i==\"ram kumar\":\n",
    "           break\n"
   ]
  },
  {
   "cell_type": "code",
   "execution_count": 28,
   "id": "6c1a55f7-7753-47ac-9c83-43ed5a486df1",
   "metadata": {},
   "outputs": [
    {
     "name": "stdout",
     "output_type": "stream",
     "text": [
      "17\n",
      "19\n",
      "24\n",
      "37\n"
     ]
    }
   ],
   "source": [
    "age=[17,19,24,37,44,23,13,17]\n",
    "for i in age:\n",
    "    print(i)\n",
    "    if i==37:\n",
    "        break"
   ]
  },
  {
   "cell_type": "code",
   "execution_count": 30,
   "id": "f47ff96c-c1c6-45cf-8fbc-9a3e85601a82",
   "metadata": {},
   "outputs": [
    {
     "name": "stdout",
     "output_type": "stream",
     "text": [
      "10\n",
      "20\n",
      "30\n",
      "40\n",
      "50\n",
      "60\n",
      "70\n",
      "80\n",
      "90\n",
      "100\n"
     ]
    }
   ],
   "source": [
    "num=10\n",
    "while num<=100:\n",
    "    print(num)\n",
    "    num=num+10\n",
    "    "
   ]
  },
  {
   "cell_type": "code",
   "execution_count": 17,
   "id": "a1ad37be-805e-42bf-88b3-f41eef7772a5",
   "metadata": {},
   "outputs": [
    {
     "name": "stdin",
     "output_type": "stream",
     "text": [
      "enter a two digit number 44\n"
     ]
    },
    {
     "name": "stdout",
     "output_type": "stream",
     "text": [
      "16\n"
     ]
    }
   ],
   "source": [
    "num=(input(\"enter a two digit number\"))\n",
    "x=int(num[0])\n",
    "y=int(num[1])\n",
    "ans=x*y\n",
    "print(ans)"
   ]
  },
  {
   "cell_type": "code",
   "execution_count": 22,
   "id": "1c4797a6-f2a7-49b9-8cf8-b572bfc983d4",
   "metadata": {},
   "outputs": [
    {
     "name": "stdin",
     "output_type": "stream",
     "text": [
      "enter a number 4\n"
     ]
    },
    {
     "name": "stdout",
     "output_type": "stream",
     "text": [
      "not a prime number\n"
     ]
    }
   ],
   "source": [
    "num=int(input(\"enter a number\"))\n",
    "count=0\n",
    "for i in range(1,num+1):\n",
    "    if num%i==0:\n",
    "        count=count+1\n",
    "if count==2:\n",
    "    print (\"prime number\")\n",
    "else:\n",
    "    print(\"not a prime number\")"
   ]
  },
  {
   "cell_type": "code",
   "execution_count": 3,
   "id": "ef3bf9d7-9a9f-4c3e-8301-2410af49deaa",
   "metadata": {},
   "outputs": [
    {
     "name": "stdin",
     "output_type": "stream",
     "text": [
      "enter a number 3\n"
     ]
    },
    {
     "name": "stdout",
     "output_type": "stream",
     "text": [
      "prime number\n"
     ]
    }
   ],
   "source": [
    "num=int(input(\"enter a number\"))\n",
    "count=0\n",
    "i=1\n",
    "while i<=num:\n",
    "     if num%i==0:\n",
    "         count=count+1\n",
    "     i=i+1\n",
    "if count==2:\n",
    "    print (\"prime number\")\n",
    "else:\n",
    "    print(\"not a prime number\")\n",
    "\n",
    "    "
   ]
  },
  {
   "cell_type": "code",
   "execution_count": 36,
   "id": "c25f34f4-3093-42e9-a2e9-dbf6e6a76448",
   "metadata": {},
   "outputs": [
    {
     "name": "stdin",
     "output_type": "stream",
     "text": [
      "enter a number 3\n"
     ]
    },
    {
     "name": "stdout",
     "output_type": "stream",
     "text": [
      "9\n"
     ]
    }
   ],
   "source": [
    "num=int(input(\"enter a number\"))\n",
    "ans=num**2\n",
    "print(ans)"
   ]
  },
  {
   "cell_type": "code",
   "execution_count": 1,
   "id": "5bc51bd2-63cd-4f98-bc0c-8794e74be37e",
   "metadata": {},
   "outputs": [
    {
     "name": "stdin",
     "output_type": "stream",
     "text": [
      "enter a table 4\n",
      "enter a range 4\n"
     ]
    },
    {
     "name": "stdout",
     "output_type": "stream",
     "text": [
      "1 X 4 = 4\n",
      "2 X 4 = 8\n",
      "3 X 4 = 12\n",
      "4 X 4 = 16\n"
     ]
    }
   ],
   "source": [
    "table=int(input(\"enter a table\"))\n",
    "rang=int(input(\"enter a range\"))                  \n",
    "for i in range(1,rang+1):\n",
    "    ans=i*table\n",
    "    print(i,\"X\",table,\"=\",ans)"
   ]
  },
  {
   "cell_type": "code",
   "execution_count": 1,
   "id": "2e23e21c-547e-4545-8280-7ed7aaca99ef",
   "metadata": {},
   "outputs": [
    {
     "name": "stdin",
     "output_type": "stream",
     "text": [
      "enter a table 4\n",
      "enter a range 4\n"
     ]
    },
    {
     "name": "stdout",
     "output_type": "stream",
     "text": [
      "1 X 4 = 4\n",
      "2 X 4 = 8\n",
      "3 X 4 = 12\n",
      "4 X 4 = 16\n"
     ]
    }
   ],
   "source": [
    "table=int(input(\"enter a table\"))\n",
    "rang=int(input(\"enter a range\"))                  \n",
    "i=1\n",
    "while i<=rang:\n",
    "    ans=i*table\n",
    "    print(i,\"X\",table,\"=\",ans)\n",
    "    i=i+1"
   ]
  },
  {
   "cell_type": "code",
   "execution_count": 9,
   "id": "927b9db0-3445-417a-b156-476703f6bf0d",
   "metadata": {},
   "outputs": [
    {
     "name": "stdin",
     "output_type": "stream",
     "text": [
      "enter a number 1234\n"
     ]
    },
    {
     "name": "stdout",
     "output_type": "stream",
     "text": [
      "24\n"
     ]
    }
   ],
   "source": [
    "num=(input(\"enter a number\"))\n",
    "total=1\n",
    "for i in num:\n",
    "    total=total*int(i)\n",
    "print(total)"
   ]
  },
  {
   "cell_type": "code",
   "execution_count": 21,
   "id": "cb135b17-71f5-4bbe-a089-79436303ae4f",
   "metadata": {},
   "outputs": [
    {
     "name": "stdin",
     "output_type": "stream",
     "text": [
      "enter a number 456\n"
     ]
    },
    {
     "name": "stdout",
     "output_type": "stream",
     "text": [
      "120\n"
     ]
    }
   ],
   "source": [
    "num=(input(\"enter a number\"))\n",
    "total=int(num[0])\n",
    "i=1\n",
    "while i<len(num):\n",
    "    total=total*int(num[i])\n",
    "    i=i+1\n",
    "print(total)    "
   ]
  },
  {
   "cell_type": "code",
   "execution_count": null,
   "id": "d480ff09-8945-4425-a3bc-3a7a4c1ed79e",
   "metadata": {},
   "outputs": [],
   "source": []
  }
 ],
 "metadata": {
  "kernelspec": {
   "display_name": "Python [conda env:base] *",
   "language": "python",
   "name": "conda-base-py"
  },
  "language_info": {
   "codemirror_mode": {
    "name": "ipython",
    "version": 3
   },
   "file_extension": ".py",
   "mimetype": "text/x-python",
   "name": "python",
   "nbconvert_exporter": "python",
   "pygments_lexer": "ipython3",
   "version": "3.12.7"
  }
 },
 "nbformat": 4,
 "nbformat_minor": 5
}
