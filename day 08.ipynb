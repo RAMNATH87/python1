{
 "cells": [
  {
   "cell_type": "code",
   "execution_count": 1,
   "id": "ddf8e795-dab1-457e-8f66-fe72f506a8d2",
   "metadata": {},
   "outputs": [
    {
     "name": "stdin",
     "output_type": "stream",
     "text": [
      "enter a number 10\n",
      "enter a number 10\n",
      "enter a number 10\n",
      "enter a number 10\n",
      "enter a number 10\n"
     ]
    },
    {
     "name": "stdout",
     "output_type": "stream",
     "text": [
      "10.0\n"
     ]
    }
   ],
   "source": [
    "total=0\n",
    "count=0\n",
    "for i in range(5):\n",
    "    num=int(input(\"enter a number\"))\n",
    "    total=total+num\n",
    "    count=count+1\n",
    "    avg=total/count\n",
    "print(avg)"
   ]
  },
  {
   "cell_type": "code",
   "execution_count": 3,
   "id": "bc810237-a2eb-4efa-8cb1-3919884c1251",
   "metadata": {},
   "outputs": [
    {
     "name": "stdout",
     "output_type": "stream",
     "text": [
      "pow,sd,sh\n"
     ]
    }
   ],
   "source": [
    "print(\"pow,sd,sh\")\n"
   ]
  },
  {
   "cell_type": "code",
   "execution_count": null,
   "id": "fb878eff-ece6-45ea-a1f4-4851df2912ab",
   "metadata": {},
   "outputs": [],
   "source": []
  }
 ],
 "metadata": {
  "kernelspec": {
   "display_name": "Python [conda env:base] *",
   "language": "python",
   "name": "conda-base-py"
  },
  "language_info": {
   "codemirror_mode": {
    "name": "ipython",
    "version": 3
   },
   "file_extension": ".py",
   "mimetype": "text/x-python",
   "name": "python",
   "nbconvert_exporter": "python",
   "pygments_lexer": "ipython3",
   "version": "3.12.7"
  }
 },
 "nbformat": 4,
 "nbformat_minor": 5
}
