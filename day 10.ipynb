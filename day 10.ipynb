{
 "cells": [
  {
   "cell_type": "markdown",
   "id": "39165473-805c-4855-bff7-c3f3a6433611",
   "metadata": {},
   "source": [
    "FUNCTION"
   ]
  },
  {
   "cell_type": "code",
   "execution_count": 2,
   "id": "908e5f2c-0077-48e1-b10d-7f5738ac6be1",
   "metadata": {},
   "outputs": [
    {
     "name": "stdout",
     "output_type": "stream",
     "text": [
      "7\n"
     ]
    }
   ],
   "source": [
    "def add1(a,b):      (a,b) #parameters\n",
    "    print(a+b)\n",
    "add1(2,5)    #arguments"
   ]
  },
  {
   "cell_type": "code",
   "execution_count": 14,
   "id": "1becb48b-4fda-4115-bda6-c3337bed2055",
   "metadata": {},
   "outputs": [
    {
     "name": "stdout",
     "output_type": "stream",
     "text": [
      "13\n"
     ]
    }
   ],
   "source": [
    "add1(9,4)"
   ]
  },
  {
   "cell_type": "code",
   "execution_count": 16,
   "id": "ea726e13-0f4f-40fd-8325-e2a37ecba364",
   "metadata": {},
   "outputs": [
    {
     "name": "stdout",
     "output_type": "stream",
     "text": [
      "13\n"
     ]
    }
   ],
   "source": [
    "def add2(a,b):\n",
    "    print(a+b)\n",
    "add2(b=5,a=8)"
   ]
  },
  {
   "cell_type": "code",
   "execution_count": 18,
   "id": "0a8e7391-0a5a-44a8-b9c0-6839a863febc",
   "metadata": {},
   "outputs": [
    {
     "name": "stdout",
     "output_type": "stream",
     "text": [
      "16\n"
     ]
    }
   ],
   "source": [
    "def add3(a,b=10):\n",
    "    print(a+b)\n",
    "add3(6)\n",
    "    "
   ]
  },
  {
   "cell_type": "code",
   "execution_count": 22,
   "id": "4592b6f1-d395-47d3-9dff-1e0892ef57a8",
   "metadata": {},
   "outputs": [
    {
     "name": "stdout",
     "output_type": "stream",
     "text": [
      "26\n"
     ]
    }
   ],
   "source": [
    "def add4(a,b=10):\n",
    "    print(a+b)\n",
    "add4(6,20)\n",
    "    "
   ]
  },
  {
   "cell_type": "code",
   "execution_count": 26,
   "id": "b40181b2-d0f1-47fa-b93b-f1c7c13d3291",
   "metadata": {},
   "outputs": [
    {
     "name": "stdout",
     "output_type": "stream",
     "text": [
      "45\n"
     ]
    }
   ],
   "source": [
    "def add5(a,*b):\n",
    "    total=a\n",
    "    for i in b:\n",
    "        total=total+i\n",
    "    print(total)\n",
    "add5(1,2,3,4,5,6,7,8,9,0)"
   ]
  },
  {
   "cell_type": "code",
   "execution_count": 28,
   "id": "5fb47fbc-7b9a-49e5-b5b6-d9740a106d07",
   "metadata": {},
   "outputs": [
    {
     "name": "stdout",
     "output_type": "stream",
     "text": [
      "8\n"
     ]
    }
   ],
   "source": [
    "add5(1,1,1,1,1,1,1,1)"
   ]
  },
  {
   "cell_type": "code",
   "execution_count": 38,
   "id": "d672d4d7-ad7b-47e9-a8a6-8c7f803119c4",
   "metadata": {},
   "outputs": [
    {
     "name": "stdout",
     "output_type": "stream",
     "text": [
      "8\n"
     ]
    }
   ],
   "source": [
    "def add6(a,b):\n",
    "    return a+b\n",
    "ans=add6(3,5)\n",
    "print(ans)"
   ]
  },
  {
   "cell_type": "code",
   "execution_count": 40,
   "id": "5ff6aee2-65dc-4cd9-a818-fb5fd00abea0",
   "metadata": {},
   "outputs": [
    {
     "name": "stdout",
     "output_type": "stream",
     "text": [
      "no\n"
     ]
    }
   ],
   "source": [
    "if ans==6:\n",
    "    print(\"yes\")\n",
    "else:\n",
    "    print(\"no\")"
   ]
  },
  {
   "cell_type": "code",
   "execution_count": 52,
   "id": "40620ba4-8e62-4d8d-83a5-d62d2fe1449b",
   "metadata": {},
   "outputs": [
    {
     "name": "stdout",
     "output_type": "stream",
     "text": [
      "7\n",
      "4\n",
      "28\n"
     ]
    }
   ],
   "source": [
    "def fun1(a,b):\n",
    "    return a+b\n",
    "\n",
    "def fun2(c,d):\n",
    "    return c-d\n",
    "\n",
    "def fun3(a1,a2):\n",
    "    print(a1*a2)\n",
    "    \n",
    "a1=fun1(2,5)\n",
    "print(a1)\n",
    "\n",
    "a2=fun2(7,3)\n",
    "print(a2)\n",
    "\n",
    "fun3(a1,a2)\n"
   ]
  },
  {
   "cell_type": "code",
   "execution_count": 66,
   "id": "8f5141df-349e-445a-a974-dc04ce9b12b8",
   "metadata": {},
   "outputs": [
    {
     "name": "stdout",
     "output_type": "stream",
     "text": [
      "3\n",
      "3\n"
     ]
    }
   ],
   "source": [
    "def aaa(a,b):\n",
    "    print(a+b)\n",
    "aaa(1,2)\n",
    "ans5=aaa(1,2)"
   ]
  },
  {
   "cell_type": "code",
   "execution_count": 68,
   "id": "84a6690d-db3a-416b-9884-4c205015976c",
   "metadata": {},
   "outputs": [
    {
     "name": "stdout",
     "output_type": "stream",
     "text": [
      "None\n"
     ]
    }
   ],
   "source": [
    "print(ans5)"
   ]
  },
  {
   "cell_type": "code",
   "execution_count": 106,
   "id": "d36df631-f833-410a-b409-5bdcf33dc179",
   "metadata": {},
   "outputs": [
    {
     "name": "stdout",
     "output_type": "stream",
     "text": [
      "odd\n"
     ]
    }
   ],
   "source": [
    "def even(a):\n",
    "    \n",
    "    if a%2==0:\n",
    "        print(\"even\")\n",
    "    else :\n",
    "        print(\"odd\")\n",
    "even(3)"
   ]
  },
  {
   "cell_type": "code",
   "execution_count": 108,
   "id": "e5585032-995d-4827-958e-5e5d3e0b32d3",
   "metadata": {},
   "outputs": [
    {
     "name": "stdout",
     "output_type": "stream",
     "text": [
      "prime\n"
     ]
    }
   ],
   "source": [
    "def prime(a):\n",
    "    count=0\n",
    "    for i in range(1,a+1):\n",
    "        if a%i==0:\n",
    "            count=count+1\n",
    "    if count==2:\n",
    "        print(\"prime\")\n",
    "    else:\n",
    "        print(\"not a prime\")\n",
    "prime(3)        "
   ]
  },
  {
   "cell_type": "code",
   "execution_count": 112,
   "id": "1b92575f-81d6-40e5-8ced-bbfaedb36683",
   "metadata": {},
   "outputs": [
    {
     "name": "stdout",
     "output_type": "stream",
     "text": [
      "not a prime\n",
      "odd\n",
      "5\n",
      "8\n"
     ]
    }
   ],
   "source": [
    "prime(4)\n",
    "even(3)\n",
    "add1(2,3)\n",
    "fun3(2,4)"
   ]
  },
  {
   "cell_type": "markdown",
   "id": "fa7f5a1f-94bf-4872-83e5-6a3ddadc5eee",
   "metadata": {},
   "source": [
    "TASK"
   ]
  },
  {
   "cell_type": "code",
   "execution_count": 18,
   "id": "27dda6d7-6cb0-440d-b186-c5ac75b85beb",
   "metadata": {},
   "outputs": [
    {
     "name": "stdout",
     "output_type": "stream",
     "text": [
      "3 is odd number\n"
     ]
    }
   ],
   "source": [
    "def even2(a):\n",
    "    if a%2==0:\n",
    "        print(f\"{a} is even number\")\n",
    "    else:\n",
    "        print(f\"{a} is odd number\")\n",
    "even2(3)\n",
    "    "
   ]
  },
  {
   "cell_type": "code",
   "execution_count": 101,
   "id": "4ea5e446-383f-4b1d-9ed4-6370f1e489ad",
   "metadata": {},
   "outputs": [
    {
     "name": "stdout",
     "output_type": "stream",
     "text": [
      "12544 is even number\n"
     ]
    }
   ],
   "source": [
    "even2(12544)"
   ]
  },
  {
   "cell_type": "code",
   "execution_count": 58,
   "id": "3f25b3da-d629-4505-9ecc-1a58e696ee38",
   "metadata": {},
   "outputs": [],
   "source": [
    "def avg(*a):\n",
    "    total=0\n",
    "    for i in a:\n",
    "        total=total+i\n",
    "        average=total%len(a)\n",
    "    print(average)\n",
    "      "
   ]
  },
  {
   "cell_type": "code",
   "execution_count": 85,
   "id": "67d85f48-be2a-4993-be58-71551ea09e09",
   "metadata": {},
   "outputs": [],
   "source": [
    "def avg(a):\n",
    "    a=input(\"enter a list\")\n",
    "    total=0\n",
    "    for i in a:\n",
    "        total=total+int(i)\n",
    "        average=total/len(a)\n",
    "    print(average)"
   ]
  },
  {
   "cell_type": "code",
   "execution_count": 87,
   "id": "7f118bd8-a30e-4e0b-ad8d-cda624b054dc",
   "metadata": {},
   "outputs": [
    {
     "name": "stdin",
     "output_type": "stream",
     "text": [
      "enter a list 123456789\n"
     ]
    },
    {
     "name": "stdout",
     "output_type": "stream",
     "text": [
      "5.0\n"
     ]
    }
   ],
   "source": [
    "avg(a)"
   ]
  },
  {
   "cell_type": "code",
   "execution_count": 109,
   "id": "38198878-e27f-4eb4-8251-0b926cb3bab4",
   "metadata": {},
   "outputs": [],
   "source": [
    "def evel(a):\n",
    "    a=str(input(\"enter a list\"))\n",
    "    for i in a:\n",
    "        if int(i)%2==0:\n",
    "            print(f\"{i} is even number\")\n",
    "        else:\n",
    "            print(f\"{i} is odd number\")"
   ]
  },
  {
   "cell_type": "code",
   "execution_count": 115,
   "id": "b7492094-6c12-47b4-88ef-3800f110d919",
   "metadata": {},
   "outputs": [
    {
     "name": "stdin",
     "output_type": "stream",
     "text": [
      "enter a list 45564\n"
     ]
    },
    {
     "name": "stdout",
     "output_type": "stream",
     "text": [
      "4 is even number\n",
      "5 is odd number\n",
      "5 is odd number\n",
      "6 is even number\n",
      "4 is even number\n"
     ]
    }
   ],
   "source": [
    "evel(a)"
   ]
  },
  {
   "cell_type": "code",
   "execution_count": null,
   "id": "6c193b31-2dad-496b-b3ff-d925853999c8",
   "metadata": {},
   "outputs": [],
   "source": []
  }
 ],
 "metadata": {
  "kernelspec": {
   "display_name": "Python [conda env:base] *",
   "language": "python",
   "name": "conda-base-py"
  },
  "language_info": {
   "codemirror_mode": {
    "name": "ipython",
    "version": 3
   },
   "file_extension": ".py",
   "mimetype": "text/x-python",
   "name": "python",
   "nbconvert_exporter": "python",
   "pygments_lexer": "ipython3",
   "version": "3.12.7"
  }
 },
 "nbformat": 4,
 "nbformat_minor": 5
}
