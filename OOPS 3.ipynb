{
 "cells": [
  {
   "cell_type": "code",
   "execution_count": 1,
   "id": "0d63b8ff-bb05-4296-826d-ce3eed705544",
   "metadata": {},
   "outputs": [
    {
     "name": "stdout",
     "output_type": "stream",
     "text": [
      "the company name is zzz\n",
      "my name is ram and my age is 21\n",
      "the gender is male\n"
     ]
    },
    {
     "ename": "TypeError",
     "evalue": "'str' object is not callable",
     "output_type": "error",
     "traceback": [
      "\u001b[1;31m---------------------------------------------------------------------------\u001b[0m",
      "\u001b[1;31mTypeError\u001b[0m                                 Traceback (most recent call last)",
      "Cell \u001b[1;32mIn[1], line 20\u001b[0m\n\u001b[0;32m     18\u001b[0m obj1\u001b[38;5;241m=\u001b[39mform2(\u001b[38;5;124m\"\u001b[39m\u001b[38;5;124mram\u001b[39m\u001b[38;5;124m\"\u001b[39m,\u001b[38;5;241m21\u001b[39m,\u001b[38;5;124m\"\u001b[39m\u001b[38;5;124mmale\u001b[39m\u001b[38;5;124m\"\u001b[39m)\n\u001b[0;32m     19\u001b[0m obj1\u001b[38;5;241m.\u001b[39moutput2()\n\u001b[1;32m---> 20\u001b[0m obj1\u001b[38;5;241m.\u001b[39mname()\n",
      "\u001b[1;31mTypeError\u001b[0m: 'str' object is not callable"
     ]
    }
   ],
   "source": [
    "class form():\n",
    "    def __init__(self,name,age):\n",
    "        self.name=name\n",
    "        self.age=age\n",
    "    def company(self):\n",
    "        print(\"the company name is zzz\")\n",
    "    def main_output(self):\n",
    "        print(f\"my name is {self.name} and my age is {self.age}\")\n",
    "class form2(form):\n",
    "    def __init__(self,name,age,gender):\n",
    "        self.name=name\n",
    "        self.age=age\n",
    "        self.gender=gender\n",
    "    def output2(self):\n",
    "        super().company()\n",
    "        super().main_output()\n",
    "        print(f\"the gender is {self.gender}\")\n",
    "obj1=form2(\"ram\",21,\"male\")\n",
    "obj1.output2()\n",
    "obj1.name()\n",
    "\n",
    "\n",
    "\n",
    "        "
   ]
  },
  {
   "cell_type": "code",
   "execution_count": 26,
   "id": "90b8a477-76b1-4352-90a4-42468efe9682",
   "metadata": {},
   "outputs": [
    {
     "name": "stdout",
     "output_type": "stream",
     "text": [
      "the company name is zzz\n"
     ]
    },
    {
     "ename": "AttributeError",
     "evalue": "'form2' object has no attribute 'name'",
     "output_type": "error",
     "traceback": [
      "\u001b[1;31m---------------------------------------------------------------------------\u001b[0m",
      "\u001b[1;31mAttributeError\u001b[0m                            Traceback (most recent call last)",
      "Cell \u001b[1;32mIn[26], line 18\u001b[0m\n\u001b[0;32m     16\u001b[0m obj2\u001b[38;5;241m=\u001b[39mform(\u001b[38;5;124m\"\u001b[39m\u001b[38;5;124mram\u001b[39m\u001b[38;5;124m\"\u001b[39m,\u001b[38;5;241m21\u001b[39m)\n\u001b[0;32m     17\u001b[0m obj1\u001b[38;5;241m=\u001b[39mform2(\u001b[38;5;124m\"\u001b[39m\u001b[38;5;124mmale\u001b[39m\u001b[38;5;124m\"\u001b[39m)\n\u001b[1;32m---> 18\u001b[0m obj1\u001b[38;5;241m.\u001b[39moutput2()\n\u001b[0;32m     19\u001b[0m obj1\u001b[38;5;241m.\u001b[39mname\n",
      "Cell \u001b[1;32mIn[26], line 14\u001b[0m, in \u001b[0;36mform2.output2\u001b[1;34m(self)\u001b[0m\n\u001b[0;32m     12\u001b[0m \u001b[38;5;28;01mdef\u001b[39;00m \u001b[38;5;21moutput2\u001b[39m(\u001b[38;5;28mself\u001b[39m):\n\u001b[0;32m     13\u001b[0m     \u001b[38;5;28msuper\u001b[39m()\u001b[38;5;241m.\u001b[39mcompany()\n\u001b[1;32m---> 14\u001b[0m     \u001b[38;5;28msuper\u001b[39m()\u001b[38;5;241m.\u001b[39mmain_output()\n\u001b[0;32m     15\u001b[0m     \u001b[38;5;28mprint\u001b[39m(\u001b[38;5;124mf\u001b[39m\u001b[38;5;124m\"\u001b[39m\u001b[38;5;124mthe gender is \u001b[39m\u001b[38;5;132;01m{\u001b[39;00m\u001b[38;5;28mself\u001b[39m\u001b[38;5;241m.\u001b[39mgender\u001b[38;5;132;01m}\u001b[39;00m\u001b[38;5;124m\"\u001b[39m)\n",
      "Cell \u001b[1;32mIn[26], line 8\u001b[0m, in \u001b[0;36mform.main_output\u001b[1;34m(self)\u001b[0m\n\u001b[0;32m      7\u001b[0m \u001b[38;5;28;01mdef\u001b[39;00m \u001b[38;5;21mmain_output\u001b[39m(\u001b[38;5;28mself\u001b[39m):\n\u001b[1;32m----> 8\u001b[0m     \u001b[38;5;28mprint\u001b[39m(\u001b[38;5;124mf\u001b[39m\u001b[38;5;124m\"\u001b[39m\u001b[38;5;124mmy name is \u001b[39m\u001b[38;5;132;01m{\u001b[39;00m\u001b[38;5;28mself\u001b[39m\u001b[38;5;241m.\u001b[39mname\u001b[38;5;132;01m}\u001b[39;00m\u001b[38;5;124m and my age is \u001b[39m\u001b[38;5;132;01m{\u001b[39;00m\u001b[38;5;28mself\u001b[39m\u001b[38;5;241m.\u001b[39mage\u001b[38;5;132;01m}\u001b[39;00m\u001b[38;5;124m\"\u001b[39m)\n",
      "\u001b[1;31mAttributeError\u001b[0m: 'form2' object has no attribute 'name'"
     ]
    }
   ],
   "source": [
    "class form():\n",
    "    def __init__(self,name,age):\n",
    "        self.name=name\n",
    "        self.age=age\n",
    "    def company(self):\n",
    "        print(\"the company name is zzz\")\n",
    "    def main_output(self):\n",
    "        print(f\"my name is {self.name} and my age is {self.age}\")\n",
    "class form2(form):\n",
    "    def __init__(self,gender):\n",
    "        self.gender=gender\n",
    "    def output2(self):\n",
    "        super().company()\n",
    "        super().main_output()\n",
    "        print(f\"the gender is {self.gender}\")\n",
    "obj2=form(\"ram\",21)\n",
    "obj1=form2(\"male\")\n",
    "obj1.output2()\n"
   ]
  },
  {
   "cell_type": "raw",
   "id": "9a8ff9f0-fa4d-43b5-b3b9-496c05d17e3b",
   "metadata": {},
   "source": [
    "public - object,main class,sub class\n",
    "private - \"__\" only in main class\n",
    "protected - \"_\" main class and sub class"
   ]
  },
  {
   "cell_type": "code",
   "execution_count": 7,
   "id": "6942d35b-b50e-4c3c-a5df-cf245c9fdf23",
   "metadata": {},
   "outputs": [
    {
     "name": "stdout",
     "output_type": "stream",
     "text": [
      "10000\n"
     ]
    },
    {
     "ename": "AttributeError",
     "evalue": "'kknagar' object has no attribute '__income'",
     "output_type": "error",
     "traceback": [
      "\u001b[1;31m---------------------------------------------------------------------------\u001b[0m",
      "\u001b[1;31mAttributeError\u001b[0m                            Traceback (most recent call last)",
      "Cell \u001b[1;32mIn[7], line 15\u001b[0m\n\u001b[0;32m     13\u001b[0m obj\u001b[38;5;241m=\u001b[39mkknagar(\u001b[38;5;124m\"\u001b[39m\u001b[38;5;124mkk nagar\u001b[39m\u001b[38;5;124m\"\u001b[39m)\n\u001b[0;32m     14\u001b[0m obj\u001b[38;5;241m.\u001b[39mincome_show()\n\u001b[1;32m---> 15\u001b[0m obj\u001b[38;5;241m.\u001b[39m__income()\n",
      "\u001b[1;31mAttributeError\u001b[0m: 'kknagar' object has no attribute '__income'"
     ]
    }
   ],
   "source": [
    "class kknagar():\n",
    "    def __init__(self,location,income=10000):\n",
    "        self.location=location\n",
    "        self.__income=income\n",
    "    def income_show(self):\n",
    "        print(self.__income)\n",
    "class navalur():\n",
    "    def __init__(self,location,revenue):\n",
    "        self.location=location\n",
    "        self._revenue=revenue\n",
    "    def revenue_show(self):\n",
    "        print(self._revenue)\n",
    "obj=kknagar(\"kk nagar\")\n",
    "obj.income_show()\n",
    "obj.__income()"
   ]
  },
  {
   "cell_type": "code",
   "execution_count": 15,
   "id": "a72fb6f6-2cb2-4c54-99ab-35cbb1ffb2f5",
   "metadata": {},
   "outputs": [
    {
     "name": "stdout",
     "output_type": "stream",
     "text": [
      "our income is 10000\n"
     ]
    }
   ],
   "source": [
    "class sla():\n",
    "    def __init__(self,course,revenue,income=10000):\n",
    "        self.course=course\n",
    "        self.revenue=revenue\n",
    "        self.__income=income\n",
    "    def pr_income(self):\n",
    "        print(f\"our income is {self.__income}\")\n",
    "class navalur(sla):\n",
    "    def __init__(self,course,location,revenue=50000):\n",
    "        self.course=course\n",
    "        self.location=location\n",
    "        self._revenue=revenue\n",
    "    def revenue_out(self):\n",
    "        print(f\"our location is {self.location} and revenue is {self._revenue} and course is {self.course}\")\n",
    "obj=sla(\"cloud\",20000)\n",
    "obj.pr_income()\n",
    "    "
   ]
  },
  {
   "cell_type": "code",
   "execution_count": 87,
   "id": "489d1a3a-bd4f-4085-ab81-e34906ee0d53",
   "metadata": {},
   "outputs": [
    {
     "name": "stdout",
     "output_type": "stream",
     "text": [
      "your name is ram, age is 21, you are a male and our base salary is 10000\n",
      "your name is ram and your salary is 6000\n",
      "salary is 15000\n"
     ]
    }
   ],
   "source": [
    "class employee():\n",
    "    def __init__(self,name,age,gender,dob,b_salary=10000):\n",
    "        self.name=name\n",
    "        self.age=age\n",
    "        self.gender=gender\n",
    "        self.dob=dob\n",
    "        self.b_salary=b_salary\n",
    "    def output(self):\n",
    "        print(f\"your name is {self.name}, age is {self.age}, you are a {self.gender} and our base salary is {self.b_salary}\")\n",
    "class pt_employee():\n",
    "    def __init__(self,name,hours,hincome=300):\n",
    "        self.name=name\n",
    "        self.hours=hours\n",
    "        self.hincome=hincome\n",
    "    def output2(self):\n",
    "        income=self.hours*self.hincome\n",
    "        print(f\"your name is {self.name} and your salary is {income}\")\n",
    "class ft_employee():\n",
    "    def __init__(self,name,gender,b_salary=10000):\n",
    "        self.name=name\n",
    "        self.gender=gender\n",
    "        self.b_salary=b_salary\n",
    "    def output3(self):\n",
    "        income=self.b_salary+5000\n",
    "        print(f\"salary is {income}\")\n",
    "\n",
    "obj=employee(\"ram\",21,\"male\",2004)\n",
    "obj.output()\n",
    "obj2=pt_employee(\"ram\",20)\n",
    "obj2.output2()\n",
    "obj3=ft_employee(\"ram\",\"male\")\n",
    "obj3.output3()"
   ]
  },
  {
   "cell_type": "code",
   "execution_count": 61,
   "id": "a5451552-6564-4f26-9962-42d332b90d49",
   "metadata": {},
   "outputs": [
    {
     "name": "stdout",
     "output_type": "stream",
     "text": [
      "your name is ram, age is 21, you are a male and our base salary is 10000\n",
      "your name is ram and you salary is 6000\n"
     ]
    }
   ],
   "source": [
    "class employee():\n",
    "    def __init__(self,name,age,gender,dob,b_salary=10000):\n",
    "        self.name=name\n",
    "        self.age=age\n",
    "        self.gender=gender\n",
    "        self.dob=dob\n",
    "        self.b_salary=b_salary\n",
    "    def output(self):\n",
    "        print(f\"your name is {self.name}, age is {self.age}, you are a {self.gender} and our base salary is {self.b_salary}\")\n",
    "class pt_employee(employee):\n",
    "    def __init__(self,name,hours,hincome=300):\n",
    "        self.name=name\n",
    "        self.hours=hours\n",
    "        self.hincome=hincome\n",
    "    def output2(self):\n",
    "        income=self.hours*self.hincome\n",
    "        print(f\"your name is {self.name} and you salary is {income}\")\n",
    "obj=employee(\"ram\",21,\"male\",2004)\n",
    "obj.output()\n",
    "obj2=pt_employee(\"ram\",20)\n",
    "obj2.output2()"
   ]
  },
  {
   "cell_type": "code",
   "execution_count": null,
   "id": "5f187ac6-dbd5-4a8e-89e1-0f1af7878667",
   "metadata": {},
   "outputs": [],
   "source": []
  }
 ],
 "metadata": {
  "kernelspec": {
   "display_name": "Python [conda env:base] *",
   "language": "python",
   "name": "conda-base-py"
  },
  "language_info": {
   "codemirror_mode": {
    "name": "ipython",
    "version": 3
   },
   "file_extension": ".py",
   "mimetype": "text/x-python",
   "name": "python",
   "nbconvert_exporter": "python",
   "pygments_lexer": "ipython3",
   "version": "3.12.7"
  }
 },
 "nbformat": 4,
 "nbformat_minor": 5
}
