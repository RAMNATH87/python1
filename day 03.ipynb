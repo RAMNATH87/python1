{
 "cells": [
  {
   "cell_type": "code",
   "execution_count": 1,
   "id": "04fe9716-469b-44bb-b726-2dec793c3e6c",
   "metadata": {},
   "outputs": [],
   "source": [
    "m=[50,40,70,23]"
   ]
  },
  {
   "cell_type": "code",
   "execution_count": 5,
   "id": "8a4811d7-33bb-4445-9453-ac5c7db8ae36",
   "metadata": {},
   "outputs": [],
   "source": [
    "m.remove(70)"
   ]
  },
  {
   "cell_type": "code",
   "execution_count": 7,
   "id": "d9522c5a-db7e-4168-9aa3-f5ba65c8641c",
   "metadata": {},
   "outputs": [
    {
     "data": {
      "text/plain": [
       "[50, 40, 23]"
      ]
     },
     "execution_count": 7,
     "metadata": {},
     "output_type": "execute_result"
    }
   ],
   "source": [
    "m"
   ]
  },
  {
   "cell_type": "code",
   "execution_count": 9,
   "id": "b2594da6-5b84-4d48-a80f-d637ea4f4f1f",
   "metadata": {},
   "outputs": [],
   "source": [
    "n=[3,45,2,78,90,11,110,23,46]"
   ]
  },
  {
   "cell_type": "code",
   "execution_count": 11,
   "id": "7b7f1648-057a-433b-b92e-46a3a7c6e10f",
   "metadata": {},
   "outputs": [
    {
     "data": {
      "text/plain": [
       "11"
      ]
     },
     "execution_count": 11,
     "metadata": {},
     "output_type": "execute_result"
    }
   ],
   "source": [
    "n.pop(5)"
   ]
  },
  {
   "cell_type": "code",
   "execution_count": 13,
   "id": "13cc8b93-5537-4575-8ad4-5376ea43935d",
   "metadata": {},
   "outputs": [
    {
     "data": {
      "text/plain": [
       "[3, 45, 2, 78, 90, 110, 23, 46]"
      ]
     },
     "execution_count": 13,
     "metadata": {},
     "output_type": "execute_result"
    }
   ],
   "source": [
    "n"
   ]
  },
  {
   "cell_type": "code",
   "execution_count": 15,
   "id": "2fe9dd24-ccf0-4b08-bc73-c7776ac4100e",
   "metadata": {},
   "outputs": [],
   "source": [
    "n=[34,80,95,67,55,67,80]"
   ]
  },
  {
   "cell_type": "code",
   "execution_count": 29,
   "id": "b277880d-f18a-4a97-933d-c0db85cd155e",
   "metadata": {},
   "outputs": [],
   "source": [
    "n.clear()"
   ]
  },
  {
   "cell_type": "code",
   "execution_count": 32,
   "id": "6193f329-9511-454a-9d70-c328bcbeec20",
   "metadata": {},
   "outputs": [
    {
     "data": {
      "text/plain": [
       "[]"
      ]
     },
     "execution_count": 32,
     "metadata": {},
     "output_type": "execute_result"
    }
   ],
   "source": [
    "n"
   ]
  },
  {
   "cell_type": "code",
   "execution_count": 36,
   "id": "23852802-11fb-4cd7-a11d-cfda673295c9",
   "metadata": {},
   "outputs": [],
   "source": [
    "word=(\"sla\",\"hi\",\"hlo\",\"sla\",101,102)"
   ]
  },
  {
   "cell_type": "code",
   "execution_count": 38,
   "id": "4b174eda-0b2d-4751-829b-40bb0bf28611",
   "metadata": {},
   "outputs": [
    {
     "data": {
      "text/plain": [
       "('sla', 'hi', 'hlo', 'sla', 101, 102)"
      ]
     },
     "execution_count": 38,
     "metadata": {},
     "output_type": "execute_result"
    }
   ],
   "source": [
    "word"
   ]
  },
  {
   "cell_type": "code",
   "execution_count": 40,
   "id": "7099f496-f1e5-4978-9ae5-7ac2b611923d",
   "metadata": {},
   "outputs": [],
   "source": [
    "word=list(word)"
   ]
  },
  {
   "cell_type": "code",
   "execution_count": 42,
   "id": "c80ad266-3c4a-4c3a-8c7a-a0b849a11022",
   "metadata": {},
   "outputs": [
    {
     "data": {
      "text/plain": [
       "['sla', 'hi', 'hlo', 'sla', 101, 102]"
      ]
     },
     "execution_count": 42,
     "metadata": {},
     "output_type": "execute_result"
    }
   ],
   "source": [
    "word"
   ]
  },
  {
   "cell_type": "code",
   "execution_count": 44,
   "id": "0109e7c1-de55-4bed-ac58-f72ac4ec479f",
   "metadata": {},
   "outputs": [],
   "source": [
    "word.insert(2,23)"
   ]
  },
  {
   "cell_type": "code",
   "execution_count": 46,
   "id": "531c6636-89b5-4761-b746-295f4879ca20",
   "metadata": {},
   "outputs": [
    {
     "data": {
      "text/plain": [
       "['sla', 'hi', 23, 'hlo', 'sla', 101, 102]"
      ]
     },
     "execution_count": 46,
     "metadata": {},
     "output_type": "execute_result"
    }
   ],
   "source": [
    "word"
   ]
  },
  {
   "cell_type": "code",
   "execution_count": 48,
   "id": "235131a9-b7c4-4627-90df-04bb2a3ee26d",
   "metadata": {},
   "outputs": [],
   "source": [
    "word=tuple(word)"
   ]
  },
  {
   "cell_type": "code",
   "execution_count": 50,
   "id": "fd03f6bb-3ced-4f7c-8bae-43939edf7f8f",
   "metadata": {},
   "outputs": [
    {
     "data": {
      "text/plain": [
       "('sla', 'hi', 23, 'hlo', 'sla', 101, 102)"
      ]
     },
     "execution_count": 50,
     "metadata": {},
     "output_type": "execute_result"
    }
   ],
   "source": [
    "word"
   ]
  },
  {
   "cell_type": "code",
   "execution_count": 52,
   "id": "008db67f-d182-4d65-b104-30d0b762af3b",
   "metadata": {},
   "outputs": [],
   "source": [
    "word=list(word)"
   ]
  },
  {
   "cell_type": "code",
   "execution_count": 68,
   "id": "e94c085d-7e83-44bb-8209-e66e6f252dfb",
   "metadata": {},
   "outputs": [
    {
     "data": {
      "text/plain": [
       "['sla', 'hi', 23, 'hlo', 'sla', 101, 102, 10, 28, 10, 28, 10, 28]"
      ]
     },
     "execution_count": 68,
     "metadata": {},
     "output_type": "execute_result"
    }
   ],
   "source": [
    "word"
   ]
  },
  {
   "cell_type": "code",
   "execution_count": 70,
   "id": "b2c6c188-cd51-438c-8e41-af2420a82ff5",
   "metadata": {},
   "outputs": [],
   "source": [
    "word.extend([10,28])"
   ]
  },
  {
   "cell_type": "code",
   "execution_count": 72,
   "id": "a2d69ae2-e5ee-4423-b4b9-6137897da043",
   "metadata": {},
   "outputs": [
    {
     "data": {
      "text/plain": [
       "['sla', 'hi', 23, 'hlo', 'sla', 101, 102, 10, 28, 10, 28, 10, 28, 10, 28]"
      ]
     },
     "execution_count": 72,
     "metadata": {},
     "output_type": "execute_result"
    }
   ],
   "source": [
    "word"
   ]
  },
  {
   "cell_type": "code",
   "execution_count": 74,
   "id": "6f6f6c5b-f2da-4817-a740-cff49f617dbf",
   "metadata": {},
   "outputs": [],
   "source": [
    "word=tuple(word)"
   ]
  },
  {
   "cell_type": "code",
   "execution_count": 76,
   "id": "841b5b44-2ae3-4183-b315-1e21f2a652bc",
   "metadata": {},
   "outputs": [
    {
     "data": {
      "text/plain": [
       "('sla', 'hi', 23, 'hlo', 'sla', 101, 102, 10, 28, 10, 28, 10, 28, 10, 28)"
      ]
     },
     "execution_count": 76,
     "metadata": {},
     "output_type": "execute_result"
    }
   ],
   "source": [
    "word"
   ]
  },
  {
   "cell_type": "markdown",
   "id": "2702a769-7e3b-4626-bc47-33414579eb77",
   "metadata": {},
   "source": [
    "SET"
   ]
  },
  {
   "cell_type": "code",
   "execution_count": 79,
   "id": "b048b27e-a1aa-4808-8278-f2a21a7567f1",
   "metadata": {},
   "outputs": [],
   "source": [
    "w={\"sla\",\"hi\",90,86,\"hlo\"}"
   ]
  },
  {
   "cell_type": "code",
   "execution_count": 81,
   "id": "7e174fc3-53d9-4e68-bbad-dae49b6058e4",
   "metadata": {},
   "outputs": [
    {
     "data": {
      "text/plain": [
       "{86, 90, 'hi', 'hlo', 'sla'}"
      ]
     },
     "execution_count": 81,
     "metadata": {},
     "output_type": "execute_result"
    }
   ],
   "source": [
    "w"
   ]
  },
  {
   "cell_type": "code",
   "execution_count": 83,
   "id": "d0319f06-f44f-4080-b9f7-ea09427e8e53",
   "metadata": {},
   "outputs": [],
   "source": [
    "w.add(70)"
   ]
  },
  {
   "cell_type": "code",
   "execution_count": 85,
   "id": "4eac616c-95e1-4bcc-95ba-d4a12a82f25d",
   "metadata": {},
   "outputs": [
    {
     "data": {
      "text/plain": [
       "{70, 86, 90, 'hi', 'hlo', 'sla'}"
      ]
     },
     "execution_count": 85,
     "metadata": {},
     "output_type": "execute_result"
    }
   ],
   "source": [
    "w"
   ]
  },
  {
   "cell_type": "code",
   "execution_count": 87,
   "id": "8bf3cdac-550b-45db-95a0-fe0d2d47971d",
   "metadata": {},
   "outputs": [],
   "source": [
    "w.add(70)"
   ]
  },
  {
   "cell_type": "code",
   "execution_count": 89,
   "id": "f1152e23-798c-4fa4-b87a-5b2bc179a22e",
   "metadata": {},
   "outputs": [
    {
     "data": {
      "text/plain": [
       "{70, 86, 90, 'hi', 'hlo', 'sla'}"
      ]
     },
     "execution_count": 89,
     "metadata": {},
     "output_type": "execute_result"
    }
   ],
   "source": [
    "w"
   ]
  },
  {
   "cell_type": "code",
   "execution_count": 91,
   "id": "326699b8-0dc9-4781-9a4c-dcb01565d29b",
   "metadata": {},
   "outputs": [],
   "source": [
    "w.update([34,67,89])"
   ]
  },
  {
   "cell_type": "code",
   "execution_count": 93,
   "id": "9fbc0bb4-0e33-448a-9d0c-0491ff072d0f",
   "metadata": {},
   "outputs": [
    {
     "data": {
      "text/plain": [
       "{34, 67, 70, 86, 89, 90, 'hi', 'hlo', 'sla'}"
      ]
     },
     "execution_count": 93,
     "metadata": {},
     "output_type": "execute_result"
    }
   ],
   "source": [
    "w"
   ]
  },
  {
   "cell_type": "code",
   "execution_count": 95,
   "id": "80fb68c7-1c8d-42c0-b29b-031ebe52a41f",
   "metadata": {},
   "outputs": [],
   "source": [
    "w.remove(\"hlo\")"
   ]
  },
  {
   "cell_type": "code",
   "execution_count": 97,
   "id": "4478a6c9-a2e4-4b3e-bbba-132a72438de0",
   "metadata": {},
   "outputs": [
    {
     "data": {
      "text/plain": [
       "{34, 67, 70, 86, 89, 90, 'hi', 'sla'}"
      ]
     },
     "execution_count": 97,
     "metadata": {},
     "output_type": "execute_result"
    }
   ],
   "source": [
    "w"
   ]
  },
  {
   "cell_type": "code",
   "execution_count": 99,
   "id": "a7ca1022-5ef4-4720-997b-d3de7ba2c708",
   "metadata": {},
   "outputs": [
    {
     "data": {
      "text/plain": [
       "{34, 67, 70, 86, 89, 90, 'hi', 'sla'}"
      ]
     },
     "execution_count": 99,
     "metadata": {},
     "output_type": "execute_result"
    }
   ],
   "source": [
    "w"
   ]
  },
  {
   "cell_type": "code",
   "execution_count": 101,
   "id": "4946059d-d36f-4595-b05a-0b3084124b2e",
   "metadata": {},
   "outputs": [
    {
     "data": {
      "text/plain": [
       "67"
      ]
     },
     "execution_count": 101,
     "metadata": {},
     "output_type": "execute_result"
    }
   ],
   "source": [
    "w.pop()"
   ]
  },
  {
   "cell_type": "code",
   "execution_count": 103,
   "id": "856a14d3-adfb-4bd4-af07-3f588a3c0388",
   "metadata": {},
   "outputs": [
    {
     "data": {
      "text/plain": [
       "{34, 70, 86, 89, 90, 'hi', 'sla'}"
      ]
     },
     "execution_count": 103,
     "metadata": {},
     "output_type": "execute_result"
    }
   ],
   "source": [
    "w"
   ]
  },
  {
   "cell_type": "code",
   "execution_count": 105,
   "id": "41600a23-75cc-4a83-acc0-c42b77f62340",
   "metadata": {},
   "outputs": [
    {
     "data": {
      "text/plain": [
       "{34, 70, 86, 89, 90, 'hi', 'sla'}"
      ]
     },
     "execution_count": 105,
     "metadata": {},
     "output_type": "execute_result"
    }
   ],
   "source": [
    "w"
   ]
  },
  {
   "cell_type": "code",
   "execution_count": 107,
   "id": "0d6a1974-a294-430c-a360-e8e6a9a3fbe4",
   "metadata": {},
   "outputs": [
    {
     "data": {
      "text/plain": [
       "<function set.clear>"
      ]
     },
     "execution_count": 107,
     "metadata": {},
     "output_type": "execute_result"
    }
   ],
   "source": [
    "w.clear"
   ]
  },
  {
   "cell_type": "markdown",
   "id": "de40589f-18fc-4136-89fe-0aded0f9c526",
   "metadata": {},
   "source": [
    "EVALUATION"
   ]
  },
  {
   "cell_type": "code",
   "execution_count": 115,
   "id": "3a5b4646-b770-478e-99a3-539982f75bcf",
   "metadata": {},
   "outputs": [],
   "source": [
    "num=(12,17,18,\"sla\",14)"
   ]
  },
  {
   "cell_type": "code",
   "execution_count": 117,
   "id": "041d8471-e013-4026-921f-46c58416e6a2",
   "metadata": {},
   "outputs": [],
   "source": [
    "num=list(num)"
   ]
  },
  {
   "cell_type": "code",
   "execution_count": 119,
   "id": "e6491072-9b4a-470f-a480-20cd19345a09",
   "metadata": {},
   "outputs": [
    {
     "data": {
      "text/plain": [
       "[12, 17, 18, 'sla', 14]"
      ]
     },
     "execution_count": 119,
     "metadata": {},
     "output_type": "execute_result"
    }
   ],
   "source": [
    "num"
   ]
  },
  {
   "cell_type": "code",
   "execution_count": 121,
   "id": "c8adc114-f57d-4f84-b0b8-1a5ec10aa77a",
   "metadata": {},
   "outputs": [],
   "source": [
    "num.append(100)"
   ]
  },
  {
   "cell_type": "code",
   "execution_count": 123,
   "id": "de2b180c-df86-4c14-8a35-ed3a0a5223b3",
   "metadata": {},
   "outputs": [
    {
     "data": {
      "text/plain": [
       "[12, 17, 18, 'sla', 14, 100]"
      ]
     },
     "execution_count": 123,
     "metadata": {},
     "output_type": "execute_result"
    }
   ],
   "source": [
    "num"
   ]
  },
  {
   "cell_type": "code",
   "execution_count": 125,
   "id": "c4c0758a-2b03-4f12-b969-86a00a8dfe4d",
   "metadata": {},
   "outputs": [],
   "source": [
    "num.remove(\"sla\")"
   ]
  },
  {
   "cell_type": "code",
   "execution_count": 127,
   "id": "8311cc34-feed-4152-9b4b-119431febd1c",
   "metadata": {},
   "outputs": [
    {
     "data": {
      "text/plain": [
       "[12, 17, 18, 14, 100]"
      ]
     },
     "execution_count": 127,
     "metadata": {},
     "output_type": "execute_result"
    }
   ],
   "source": [
    "num"
   ]
  },
  {
   "cell_type": "code",
   "execution_count": 129,
   "id": "b79bc0e8-9401-4ea5-888a-176848ec07ab",
   "metadata": {},
   "outputs": [],
   "source": [
    "num=set(num)"
   ]
  },
  {
   "cell_type": "code",
   "execution_count": 131,
   "id": "0e1ca2b1-6d02-4ff4-bf63-8c63ad1fb806",
   "metadata": {},
   "outputs": [
    {
     "data": {
      "text/plain": [
       "{12, 14, 17, 18, 100}"
      ]
     },
     "execution_count": 131,
     "metadata": {},
     "output_type": "execute_result"
    }
   ],
   "source": [
    "num"
   ]
  },
  {
   "cell_type": "code",
   "execution_count": 133,
   "id": "5683aa27-8822-454e-9f59-29a44ff397b4",
   "metadata": {},
   "outputs": [],
   "source": []
  },
  {
   "cell_type": "code",
   "execution_count": 164,
   "id": "b6babd06-7ad4-4ef1-b25d-c6a6780750ad",
   "metadata": {},
   "outputs": [],
   "source": [
    "num={12,14,17,18,100}"
   ]
  },
  {
   "cell_type": "code",
   "execution_count": 166,
   "id": "2af972a1-7a15-462f-a284-32c3d27b677f",
   "metadata": {},
   "outputs": [
    {
     "data": {
      "text/plain": [
       "{12, 14, 17, 18, 100}"
      ]
     },
     "execution_count": 166,
     "metadata": {},
     "output_type": "execute_result"
    }
   ],
   "source": [
    "num"
   ]
  },
  {
   "cell_type": "code",
   "execution_count": 168,
   "id": "4f9df9e3-70cd-4969-b2e4-5d2bd84af609",
   "metadata": {},
   "outputs": [],
   "source": [
    "num.add(\"power bi\")"
   ]
  },
  {
   "cell_type": "code",
   "execution_count": 170,
   "id": "31f3f0b7-b248-4fc6-92d1-69a326a5b308",
   "metadata": {},
   "outputs": [
    {
     "data": {
      "text/plain": [
       "{100, 12, 14, 17, 18, 'power bi'}"
      ]
     },
     "execution_count": 170,
     "metadata": {},
     "output_type": "execute_result"
    }
   ],
   "source": [
    "num"
   ]
  },
  {
   "cell_type": "code",
   "execution_count": 172,
   "id": "da69db1e-f34f-4518-a291-01cacbafd0e8",
   "metadata": {},
   "outputs": [],
   "source": [
    "num=list(num)"
   ]
  },
  {
   "cell_type": "code",
   "execution_count": 174,
   "id": "5c7d89a2-c517-476b-b06b-d16a2f43c5ae",
   "metadata": {},
   "outputs": [
    {
     "data": {
      "text/plain": [
       "[17, 18, 100, 12, 14, 'power bi']"
      ]
     },
     "execution_count": 174,
     "metadata": {},
     "output_type": "execute_result"
    }
   ],
   "source": [
    "num"
   ]
  },
  {
   "cell_type": "code",
   "execution_count": 176,
   "id": "23aa0075-d0f8-46a3-a2b2-00051e8c0e2b",
   "metadata": {},
   "outputs": [],
   "source": [
    "num.extend(num)"
   ]
  },
  {
   "cell_type": "code",
   "execution_count": 178,
   "id": "9746202e-0512-4d07-9d0b-c6bf8f8d4c1a",
   "metadata": {},
   "outputs": [
    {
     "data": {
      "text/plain": [
       "[17, 18, 100, 12, 14, 'power bi', 17, 18, 100, 12, 14, 'power bi']"
      ]
     },
     "execution_count": 178,
     "metadata": {},
     "output_type": "execute_result"
    }
   ],
   "source": [
    "num"
   ]
  },
  {
   "cell_type": "code",
   "execution_count": 180,
   "id": "a4a5adef-d259-494c-92e1-cbc2b169707f",
   "metadata": {},
   "outputs": [],
   "source": [
    "num=[17, 18, 100, 12, 14, 'power bi']"
   ]
  },
  {
   "cell_type": "code",
   "execution_count": 182,
   "id": "e39653fa-90ed-43c6-9ff6-ab03f1a98543",
   "metadata": {},
   "outputs": [
    {
     "data": {
      "text/plain": [
       "[17, 18, 100, 12, 14, 'power bi']"
      ]
     },
     "execution_count": 182,
     "metadata": {},
     "output_type": "execute_result"
    }
   ],
   "source": [
    "num"
   ]
  },
  {
   "cell_type": "code",
   "execution_count": 186,
   "id": "d3833bd7-366e-4237-8c08-57150d0a6e87",
   "metadata": {},
   "outputs": [],
   "source": [
    "num.extend([7,8])"
   ]
  },
  {
   "cell_type": "code",
   "execution_count": 189,
   "id": "b54f397d-12da-4b59-b134-3df247c31967",
   "metadata": {},
   "outputs": [
    {
     "data": {
      "text/plain": [
       "[17, 18, 100, 12, 14, 'power bi', 7, 8]"
      ]
     },
     "execution_count": 189,
     "metadata": {},
     "output_type": "execute_result"
    }
   ],
   "source": [
    "num"
   ]
  },
  {
   "cell_type": "code",
   "execution_count": 191,
   "id": "719bdf5d-8c2f-44de-8cdc-9dd4680b80a7",
   "metadata": {},
   "outputs": [],
   "source": [
    "num.insert(4,44)"
   ]
  },
  {
   "cell_type": "code",
   "execution_count": 193,
   "id": "58ac551d-ecbf-4db6-bd04-bb66d773b40f",
   "metadata": {},
   "outputs": [
    {
     "data": {
      "text/plain": [
       "[17, 18, 100, 12, 44, 14, 'power bi', 7, 8]"
      ]
     },
     "execution_count": 193,
     "metadata": {},
     "output_type": "execute_result"
    }
   ],
   "source": [
    "num"
   ]
  },
  {
   "cell_type": "code",
   "execution_count": 195,
   "id": "bb86332f-a7fc-4096-9a72-048588f8f52b",
   "metadata": {},
   "outputs": [],
   "source": [
    "num=set(num)"
   ]
  },
  {
   "cell_type": "code",
   "execution_count": 197,
   "id": "6ca7764f-b315-4ade-8a6b-1eb615ccc830",
   "metadata": {},
   "outputs": [
    {
     "data": {
      "text/plain": [
       "{100, 12, 14, 17, 18, 44, 7, 8, 'power bi'}"
      ]
     },
     "execution_count": 197,
     "metadata": {},
     "output_type": "execute_result"
    }
   ],
   "source": [
    "num"
   ]
  },
  {
   "cell_type": "code",
   "execution_count": 199,
   "id": "a86cd14c-2132-4da0-900a-09433f7c3a5e",
   "metadata": {},
   "outputs": [],
   "source": [
    "num.remove(\"power bi\")"
   ]
  },
  {
   "cell_type": "code",
   "execution_count": 201,
   "id": "5daa9ead-3742-4e36-b785-a486fb020e48",
   "metadata": {},
   "outputs": [
    {
     "data": {
      "text/plain": [
       "{7, 8, 12, 14, 17, 18, 44, 100}"
      ]
     },
     "execution_count": 201,
     "metadata": {},
     "output_type": "execute_result"
    }
   ],
   "source": [
    "num"
   ]
  },
  {
   "cell_type": "code",
   "execution_count": 203,
   "id": "7cd85f9f-6dd5-4bb6-9a70-736e406e7121",
   "metadata": {},
   "outputs": [
    {
     "data": {
      "text/plain": [
       "100"
      ]
     },
     "execution_count": 203,
     "metadata": {},
     "output_type": "execute_result"
    }
   ],
   "source": [
    "num.pop()"
   ]
  },
  {
   "cell_type": "code",
   "execution_count": 206,
   "id": "a5e7b07f-ddd5-4ed0-9161-c71ab55d9f7b",
   "metadata": {},
   "outputs": [
    {
     "data": {
      "text/plain": [
       "{7, 8, 12, 14, 17, 18, 44}"
      ]
     },
     "execution_count": 206,
     "metadata": {},
     "output_type": "execute_result"
    }
   ],
   "source": [
    "num"
   ]
  },
  {
   "cell_type": "code",
   "execution_count": 208,
   "id": "3436e0ed-7df4-45c1-8736-dbea25c3ef10",
   "metadata": {},
   "outputs": [],
   "source": [
    "num=tuple(num)"
   ]
  },
  {
   "cell_type": "code",
   "execution_count": 210,
   "id": "6a078640-ee4f-4d17-9c43-03c47bfcab2e",
   "metadata": {},
   "outputs": [
    {
     "data": {
      "text/plain": [
       "(7, 8, 12, 44, 14, 17, 18)"
      ]
     },
     "execution_count": 210,
     "metadata": {},
     "output_type": "execute_result"
    }
   ],
   "source": [
    "num"
   ]
  },
  {
   "cell_type": "markdown",
   "id": "b61d7a7b-330c-459b-9f5d-370b6cda6877",
   "metadata": {},
   "source": [
    "class"
   ]
  },
  {
   "cell_type": "code",
   "execution_count": 227,
   "id": "fc94a5ed-bae5-451a-8464-c9f62d3f5d46",
   "metadata": {},
   "outputs": [
    {
     "name": "stdout",
     "output_type": "stream",
     "text": [
      "even number\n"
     ]
    }
   ],
   "source": [
    "n=4\n",
    "if(n%2==0):\n",
    "    print(\"even number\")\n",
    "else:\n",
    "    print(\"odd number\")\n",
    "    \n"
   ]
  },
  {
   "cell_type": "code",
   "execution_count": 271,
   "id": "be7afe50-5b70-4260-9b45-34c904cb23e5",
   "metadata": {},
   "outputs": [
    {
     "name": "stdout",
     "output_type": "stream",
     "text": [
      "not divide by 5\n"
     ]
    }
   ],
   "source": [
    "n=25\n",
    "if(n%5==0):\n",
    "    print(\"divided by 5\")\n",
    "else:\n",
    "    print(\"not divide by 5\")"
   ]
  },
  {
   "cell_type": "code",
   "execution_count": 287,
   "id": "5539d467-fc16-4ef0-beb5-ea0dd43ce207",
   "metadata": {},
   "outputs": [
    {
     "name": "stdin",
     "output_type": "stream",
     "text": [
      "enter a number 12\n"
     ]
    },
    {
     "name": "stdout",
     "output_type": "stream",
     "text": [
      "not divided by 5\n"
     ]
    }
   ],
   "source": [
    "num=int(input(\"enter a number\"))\n",
    "if(num%5==0):\n",
    "        print(\"divided by 5\")\n",
    "else:\n",
    "        print(\"not divided by 5\")"
   ]
  },
  {
   "cell_type": "code",
   "execution_count": 299,
   "id": "d7392021-aab4-42fc-af30-447b9b474061",
   "metadata": {},
   "outputs": [
    {
     "name": "stdin",
     "output_type": "stream",
     "text": [
      "enter the word sLA\n"
     ]
    },
    {
     "name": "stdout",
     "output_type": "stream",
     "text": [
      "no login\n"
     ]
    }
   ],
   "source": [
    "word=str(input(\"enter the word\"))\n",
    "if(word==\"sla\"):\n",
    "    print(\"login\")\n",
    "else:\n",
    "    print(\"no login\")\n"
   ]
  },
  {
   "cell_type": "code",
   "execution_count": 297,
   "id": "481977ed-32a4-4d49-b880-9941c33ab96d",
   "metadata": {},
   "outputs": [
    {
     "name": "stdin",
     "output_type": "stream",
     "text": [
      "enter the word SLa\n"
     ]
    },
    {
     "name": "stdout",
     "output_type": "stream",
     "text": [
      "login\n"
     ]
    }
   ],
   "source": [
    "word=str(input(\"enter the word\"))\n",
    "if(word.lower()==\"sla\"):\n",
    "    print(\"login\")\n",
    "else:\n",
    "    print(\"no login\")"
   ]
  },
  {
   "cell_type": "code",
   "execution_count": 310,
   "id": "82820877-a874-4689-ad48-f394a26fd469",
   "metadata": {
    "jp-MarkdownHeadingCollapsed": true
   },
   "outputs": [
    {
     "name": "stdin",
     "output_type": "stream",
     "text": [
      "enter a number 9\n"
     ]
    },
    {
     "name": "stdout",
     "output_type": "stream",
     "text": [
      "divisible\n"
     ]
    }
   ],
   "source": [
    "num=int(input(\"enter a number\"))\n",
    "if(num%2==0) or (num%3==0):\n",
    "        print(\"divisible\")\n",
    "else:\n",
    "        print(\"not divisible\")\n"
   ]
  },
  {
   "cell_type": "markdown",
   "id": "ead9eaa4-0ce4-4197-a50e-10098596f34f",
   "metadata": {},
   "source": [
    "EVALUATION\n"
   ]
  },
  {
   "cell_type": "code",
   "execution_count": 15,
   "id": "3ecdfef4-9d67-4f1f-9a3a-f039f7bdcd64",
   "metadata": {},
   "outputs": [
    {
     "name": "stdin",
     "output_type": "stream",
     "text": [
      "enter username KaMrAj\n",
      "enter the password 1234\n"
     ]
    },
    {
     "name": "stdout",
     "output_type": "stream",
     "text": [
      "login\n"
     ]
    }
   ],
   "source": [
    "\n",
    "username=str(input(\"enter username\"))\n",
    "password=int(input(\"enter the password\"))\n",
    "if(username.lower()==\"kamraj\")and(password==1234):\n",
    "    print(\"login\")\n",
    "else:\n",
    "    print(\"no login\")"
   ]
  },
  {
   "cell_type": "code",
   "execution_count": 17,
   "id": "f5883b40-15ef-43ca-ba83-5dbfa44a898e",
   "metadata": {},
   "outputs": [
    {
     "name": "stdin",
     "output_type": "stream",
     "text": [
      "enter a number 22\n"
     ]
    },
    {
     "name": "stdout",
     "output_type": "stream",
     "text": [
      "it is divisible by 11\n"
     ]
    }
   ],
   "source": [
    "num=int(input(\"enter a number\"))\n",
    "if (num%11==0):\n",
    "    print(\"it is divisible by 11\")\n",
    "else:\n",
    "    print(\"it is not divisible by 11\")"
   ]
  },
  {
   "cell_type": "code",
   "execution_count": 21,
   "id": "8a003c78-43f8-4c73-aef0-1709d4217e08",
   "metadata": {},
   "outputs": [
    {
     "name": "stdin",
     "output_type": "stream",
     "text": [
      "enter a number 33\n"
     ]
    },
    {
     "name": "stdout",
     "output_type": "stream",
     "text": [
      "it is not divisible by 13\n"
     ]
    }
   ],
   "source": [
    "num=int(input(\"enter a number\"))\n",
    "if (num%13==0):\n",
    "    print(\"it is divisible by 13\")\n",
    "else:\n",
    "    print(\"it is not divisible by 13\")"
   ]
  },
  {
   "cell_type": "code",
   "execution_count": 29,
   "id": "79e1bc26-e5fd-4b40-b681-7da15e6ec11b",
   "metadata": {},
   "outputs": [
    {
     "name": "stdin",
     "output_type": "stream",
     "text": [
      "enter a number 143\n"
     ]
    },
    {
     "name": "stdout",
     "output_type": "stream",
     "text": [
      "it is divisible by 13 and 11\n"
     ]
    }
   ],
   "source": [
    "num=int(input(\"enter a number\"))\n",
    "if (num%13==0) and (num%11==0):\n",
    "    print(\"it is divisible by 13 and 11\")\n",
    "else:\n",
    "    print(\"it is not divisible by 13 and 11\")"
   ]
  },
  {
   "cell_type": "code",
   "execution_count": 31,
   "id": "9f8694e3-ddc3-47f4-be51-e42d2b95f1ab",
   "metadata": {},
   "outputs": [
    {
     "name": "stdin",
     "output_type": "stream",
     "text": [
      "enter a number 55\n"
     ]
    },
    {
     "name": "stdout",
     "output_type": "stream",
     "text": [
      "it is divisible by 5 or 7\n"
     ]
    }
   ],
   "source": [
    "num=int(input(\"enter a number\"))\n",
    "if (num%5==0) or (num%7==0):\n",
    "    print(\"it is divisible by 5 or 7\")\n",
    "else:\n",
    "    print(\"it is not divisible by 5 or 7\")"
   ]
  },
  {
   "cell_type": "code",
   "execution_count": null,
   "id": "5d08b991-1f76-431a-8c97-e08fb859d9cb",
   "metadata": {},
   "outputs": [],
   "source": []
  }
 ],
 "metadata": {
  "kernelspec": {
   "display_name": "Python [conda env:base] *",
   "language": "python",
   "name": "conda-base-py"
  },
  "language_info": {
   "codemirror_mode": {
    "name": "ipython",
    "version": 3
   },
   "file_extension": ".py",
   "mimetype": "text/x-python",
   "name": "python",
   "nbconvert_exporter": "python",
   "pygments_lexer": "ipython3",
   "version": "3.12.7"
  }
 },
 "nbformat": 4,
 "nbformat_minor": 5
}
