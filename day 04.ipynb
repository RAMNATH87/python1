{
 "cells": [
  {
   "cell_type": "code",
   "execution_count": 9,
   "id": "1dc8d006-4c5d-45c8-9e70-1acfe6675717",
   "metadata": {},
   "outputs": [
    {
     "name": "stdin",
     "output_type": "stream",
     "text": [
      "enter the day 5\n"
     ]
    },
    {
     "name": "stdout",
     "output_type": "stream",
     "text": [
      "enter a valid day\n"
     ]
    }
   ],
   "source": [
    "day=int(input(\"enter the day\"))\n",
    "if day==1:\n",
    "    print(\"monday\")\n",
    "elif day==2:\n",
    "    print(\"tuesday\")    \n",
    "elif day==3:\n",
    "    print(\"wednesday\")\n",
    "else:\n",
    "    print(\"enter a valid day\")\n",
    "    "
   ]
  },
  {
   "cell_type": "code",
   "execution_count": 27,
   "id": "d8be16ca-e733-4568-afa2-19e2efc3c4f4",
   "metadata": {},
   "outputs": [
    {
     "name": "stdin",
     "output_type": "stream",
     "text": [
      "enter a country name canada\n"
     ]
    },
    {
     "name": "stdout",
     "output_type": "stream",
     "text": [
      "capital is TORANTO\n"
     ]
    }
   ],
   "source": [
    "country=str(input(\"enter a country name\"))\n",
    "if country.upper()==\"INDIA\":\n",
    "    print(\"capital is DELHI\")\n",
    "elif country.upper()==\"AMERICA\":\n",
    "    print(\"capital is WASHINGTON\")\n",
    "elif country.upper()==\"CANADA\":\n",
    "    print(\"capital is TORANTO\")\n",
    "else:\n",
    "    print(\"enter a valid country\")"
   ]
  },
  {
   "cell_type": "code",
   "execution_count": 35,
   "id": "53cd328c-353a-4fee-9995-91fa84389c68",
   "metadata": {},
   "outputs": [
    {
     "name": "stdin",
     "output_type": "stream",
     "text": [
      "enter the km 100\n"
     ]
    },
    {
     "name": "stdout",
     "output_type": "stream",
     "text": [
      "1300\n"
     ]
    }
   ],
   "source": [
    "km=int(input(\"enter the km\"))\n",
    "if km>=90:\n",
    "    bill=km*13\n",
    "    print(bill)\n",
    "elif km>=60 and km<=89:\n",
    "    bill=km*10\n",
    "    print(bill)\n",
    "else:\n",
    "    bill=km*8\n",
    "    print(bill)\n",
    "\n",
    "\n"
   ]
  },
  {
   "cell_type": "code",
   "execution_count": 47,
   "id": "5830710e-092f-4494-ae78-f50c9e4786f2",
   "metadata": {},
   "outputs": [
    {
     "name": "stdin",
     "output_type": "stream",
     "text": [
      "enter the price 1000\n",
      "enter the country india\n"
     ]
    },
    {
     "name": "stdout",
     "output_type": "stream",
     "text": [
      "the total bill amount is 1100.0\n"
     ]
    }
   ],
   "source": [
    "price=int(input(\"enter the price\"))\n",
    "country=str(input(\"enter the country\"))\n",
    "if country==\"dubai\":\n",
    "    tax=price*0.05\n",
    "    bill=price+tax\n",
    "    print(f\"the total bill amount is {bill}\")\n",
    "elif country==\"india\":\n",
    "    tax=price*0.10\n",
    "    bill=price+tax\n",
    "    print(f\"the total bill amount is {bill}\")\n",
    "elif country==\"america\":\n",
    "    tax=price*0.40\n",
    "    bill=price+tax\n",
    "    print(f\"the total bill amount is {bill}\")\n",
    "else:\n",
    "    tax=price*0.17\n",
    "    bill=price+tax\n",
    "    print(f\"the total bill amount is {bill}\")"
   ]
  },
  {
   "cell_type": "code",
   "execution_count": 57,
   "id": "b7877ad0-4196-447c-a08d-e1029c704456",
   "metadata": {},
   "outputs": [
    {
     "name": "stdin",
     "output_type": "stream",
     "text": [
      "enter a number 4\n"
     ]
    },
    {
     "name": "stdout",
     "output_type": "stream",
     "text": [
      "positive\n",
      "4 is a even number\n"
     ]
    }
   ],
   "source": [
    "num=int(input(\"enter a number\"))\n",
    "if num>0:\n",
    "    print(\"positive\")\n",
    "    if num%2==0:\n",
    "       print(f\"{num} is a even number\")\n",
    "    else :\n",
    "        print(\"odd number\")\n",
    "else :\n",
    "     print(\"negative\")"
   ]
  },
  {
   "cell_type": "markdown",
   "id": "de8985e0-36ea-4734-ac6e-f3d03b931a30",
   "metadata": {},
   "source": [
    "EVALUATION"
   ]
  },
  {
   "cell_type": "code",
   "execution_count": 7,
   "id": "7acd1b54-a8d8-4868-9e82-90327fb6f539",
   "metadata": {},
   "outputs": [
    {
     "name": "stdin",
     "output_type": "stream",
     "text": [
      "enter a month may\n"
     ]
    },
    {
     "name": "stdout",
     "output_type": "stream",
     "text": [
      "it has 30 days\n"
     ]
    }
   ],
   "source": [
    "month=str(input(\"enter a month\"))\n",
    "if (month==\"january\") or (month==\"march\") or (month==\"may\") or (month==\"july\") or (month==\"august\") or (month==\"october\") or (month==\"december\") :\n",
    "    print(\"it has 31 days\")\n",
    "elif month==\"febraury\":\n",
    "    print(\"it has 28 or 29 days\")\n",
    "else :\n",
    "    print(\"it has 30 days\")\n",
    "    "
   ]
  },
  {
   "cell_type": "code",
   "execution_count": 33,
   "id": "9563406e-4cb2-4235-b64f-aacd858d1e40",
   "metadata": {},
   "outputs": [
    {
     "name": "stdin",
     "output_type": "stream",
     "text": [
      "enter marks 5\n"
     ]
    },
    {
     "name": "stdout",
     "output_type": "stream",
     "text": [
      "FAIL\n"
     ]
    }
   ],
   "source": [
    "mark=int(input(\"enter marks\"))\n",
    "if mark>=90:\n",
    "    print(\"GRADE A\")\n",
    "elif mark>=70 and mark<=89:\n",
    "    print(\"GRADE B\")\n",
    "elif mark>=60 and mark<=69:\n",
    "    print(\"GRADE C\")\n",
    "elif mark>=45 and mark<=59:\n",
    "     print(\"GRADE D\")\n",
    "else :\n",
    "    print(\"FAIL\")\n",
    "    "
   ]
  },
  {
   "cell_type": "code",
   "execution_count": 39,
   "id": "8328f682-b41b-45ca-8096-a9737188032f",
   "metadata": {},
   "outputs": [
    {
     "name": "stdin",
     "output_type": "stream",
     "text": [
      "enter a number 35\n"
     ]
    },
    {
     "name": "stdout",
     "output_type": "stream",
     "text": [
      "it is divisible\n"
     ]
    }
   ],
   "source": [
    "num=int(input(\"enter a number\"))\n",
    "if num%7==0:\n",
    "    print(\"it is divisible\")\n",
    "else :\n",
    "    print(\"it is not divisible\")"
   ]
  },
  {
   "cell_type": "code",
   "execution_count": 45,
   "id": "7a84a2a6-5583-4efa-b10d-19e409f0fdc8",
   "metadata": {},
   "outputs": [
    {
     "name": "stdin",
     "output_type": "stream",
     "text": [
      "enter a number -5\n"
     ]
    },
    {
     "name": "stdout",
     "output_type": "stream",
     "text": [
      "it is negative\n"
     ]
    }
   ],
   "source": [
    "num=int(input(\"enter a number\"))\n",
    "if num>0:\n",
    "    print(\"it is positive\")\n",
    "else :\n",
    "    print(\"it is negative\")"
   ]
  },
  {
   "cell_type": "code",
   "execution_count": 53,
   "id": "30437067-470d-4aa8-b32c-852d717faa80",
   "metadata": {},
   "outputs": [
    {
     "name": "stdin",
     "output_type": "stream",
     "text": [
      "enter a number -5\n"
     ]
    },
    {
     "name": "stdout",
     "output_type": "stream",
     "text": [
      "it is negative\n"
     ]
    }
   ],
   "source": [
    "num=int(input(\"enter a number\"))\n",
    "if num>0:\n",
    "    print(\"it is positive\")\n",
    "elif num==0:\n",
    "    print(\"it is zero\")\n",
    "else :\n",
    "    print(\"it is negative\")"
   ]
  },
  {
   "cell_type": "code",
   "execution_count": 63,
   "id": "38150001-4988-40d5-aa37-30848c13c516",
   "metadata": {},
   "outputs": [
    {
     "name": "stdin",
     "output_type": "stream",
     "text": [
      "enter a number 5\n"
     ]
    },
    {
     "name": "stdout",
     "output_type": "stream",
     "text": [
      "it is positive\n",
      "it is odd number\n"
     ]
    }
   ],
   "source": [
    "num=int(input(\"enter a number\"))\n",
    "if num>0:\n",
    "    print(\"it is positive\")\n",
    "    if num%2==0:\n",
    "        print(\"it is even number\")\n",
    "    else:\n",
    "        print(\"it is odd number\")\n",
    "else :\n",
    "    print(\"it is negative\")"
   ]
  },
  {
   "cell_type": "code",
   "execution_count": 1,
   "id": "08e06a95-6320-42a2-9d12-a61dbe500e51",
   "metadata": {},
   "outputs": [
    {
     "name": "stdin",
     "output_type": "stream",
     "text": [
      "enter the product TV\n",
      "enter the price 100\n"
     ]
    },
    {
     "name": "stdout",
     "output_type": "stream",
     "text": [
      "97.0\n"
     ]
    }
   ],
   "source": [
    "product=str(input(\"enter the product\"))\n",
    "price=int(input(\"enter the price\"))\n",
    "if product==\"laptop\":\n",
    "    tax=price*0.3\n",
    "    discount=price*0.2\n",
    "    bill=price+tax-discount\n",
    "    print(f\"price of the laptop is {bill}\")\n",
    "elif product==\"mobile\":\n",
    "    tax=price*0.4\n",
    "    discount=price*0.1\n",
    "    bill=price+tax-discount\n",
    "    print(f\"price of the mobile is {bill}\") \n",
    "elif product==\"TV\":\n",
    "    tax=price*0\n",
    "    discount=price*0.03\n",
    "    bill=price+tax-discount\n",
    "    print(f\"price of the laptop is {bill}\") \n",
    "else :\n",
    "    print(\"enter a valid product\")\n",
    "    "
   ]
  },
  {
   "cell_type": "code",
   "execution_count": null,
   "id": "d98a6e53-af6d-4eab-8bd1-8d12e4474fc6",
   "metadata": {},
   "outputs": [],
   "source": []
  }
 ],
 "metadata": {
  "kernelspec": {
   "display_name": "Python [conda env:base] *",
   "language": "python",
   "name": "conda-base-py"
  },
  "language_info": {
   "codemirror_mode": {
    "name": "ipython",
    "version": 3
   },
   "file_extension": ".py",
   "mimetype": "text/x-python",
   "name": "python",
   "nbconvert_exporter": "python",
   "pygments_lexer": "ipython3",
   "version": "3.12.7"
  }
 },
 "nbformat": 4,
 "nbformat_minor": 5
}
