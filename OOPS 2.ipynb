{
 "cells": [
  {
   "cell_type": "code",
   "execution_count": 15,
   "id": "c5b19320-dc9f-44d1-8a98-b8d0747db9a5",
   "metadata": {},
   "outputs": [
    {
     "name": "stdout",
     "output_type": "stream",
     "text": [
      "my name is ram and my age is 20 , I am a male\n"
     ]
    }
   ],
   "source": [
    "class form():\n",
    "    def __init__(self,name,age,gender):\n",
    "        self.name=name\n",
    "        self.age=age\n",
    "        self.gender=gender\n",
    "    def output(self):\n",
    "        print(f\"my name is {self.name} and my age is {self.age} , I am a {self.gender}\")\n",
    "obj1=form(\"ram\",20,\"male\")\n",
    "obj1.output()"
   ]
  },
  {
   "cell_type": "code",
   "execution_count": 37,
   "id": "98104808-7854-4f5d-ac7e-800e6eb74721",
   "metadata": {},
   "outputs": [
    {
     "name": "stdout",
     "output_type": "stream",
     "text": [
      "sum of 1 and 2 is 3 and product of 3 and 4 is 12\n"
     ]
    }
   ],
   "source": [
    "class math():\n",
    "    def __init__(self,a,b,c,d):\n",
    "        self.a=a\n",
    "        self.b=b\n",
    "        self.c=c\n",
    "        self.d=d        \n",
    "    def output(self):\n",
    "        ans1=self.a+self.b\n",
    "        ans2=self.c*self.d\n",
    "        print(f\"sum of {self.a} and {self.b} is {ans1} and product of {self.c} and {self.d} is {ans2}\")\n",
    "ob1=math(1,2,3,4)\n",
    "ob1.output()"
   ]
  },
  {
   "cell_type": "code",
   "execution_count": null,
   "id": "aa4d8786-0bf1-4601-a1c8-e6a002678d6b",
   "metadata": {},
   "outputs": [],
   "source": []
  }
 ],
 "metadata": {
  "kernelspec": {
   "display_name": "Python [conda env:base] *",
   "language": "python",
   "name": "conda-base-py"
  },
  "language_info": {
   "codemirror_mode": {
    "name": "ipython",
    "version": 3
   },
   "file_extension": ".py",
   "mimetype": "text/x-python",
   "name": "python",
   "nbconvert_exporter": "python",
   "pygments_lexer": "ipython3",
   "version": "3.12.7"
  }
 },
 "nbformat": 4,
 "nbformat_minor": 5
}
