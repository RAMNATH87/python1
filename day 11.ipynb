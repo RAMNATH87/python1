{
 "cells": [
  {
   "cell_type": "markdown",
   "id": "36e3230a-632f-4ec0-aa7a-6bb94c2257d7",
   "metadata": {},
   "source": [
    "lamda function"
   ]
  },
  {
   "cell_type": "code",
   "execution_count": 13,
   "id": "504e29f7-9e71-4eaf-ba84-94dfa7f08bcb",
   "metadata": {},
   "outputs": [
    {
     "name": "stdout",
     "output_type": "stream",
     "text": [
      "5\n"
     ]
    }
   ],
   "source": [
    "x= lambda a,b: a+b\n",
    "print( x(2,3))"
   ]
  },
  {
   "cell_type": "code",
   "execution_count": 14,
   "id": "f83dbc16-be84-4fdb-a377-3399117dbd07",
   "metadata": {},
   "outputs": [
    {
     "name": "stdout",
     "output_type": "stream",
     "text": [
      "10\n"
     ]
    }
   ],
   "source": [
    "x=lambda a,b: a*b\n",
    "print(x(2,5))"
   ]
  },
  {
   "cell_type": "code",
   "execution_count": 28,
   "id": "938e3fc5-ebe9-403e-8545-f74780867dc3",
   "metadata": {},
   "outputs": [
    {
     "name": "stdout",
     "output_type": "stream",
     "text": [
      "[12, 14, 16, 18]\n"
     ]
    }
   ],
   "source": [
    "num=[12,13,14,16,18,19,11,15]\n",
    "new=list(filter(lambda x:x%2==0, num))\n",
    "print(new)"
   ]
  },
  {
   "cell_type": "code",
   "execution_count": 34,
   "id": "9669e634-1693-4214-86d7-af66333309c4",
   "metadata": {},
   "outputs": [
    {
     "name": "stdout",
     "output_type": "stream",
     "text": [
      "{512, 513, 514, 515, 516, 518, 519, 511}\n"
     ]
    }
   ],
   "source": [
    "salary=[12,13,14,16,18,19,11,15]\n",
    "new=set(map( lambda x:x+500,salary))\n",
    "print(new)"
   ]
  },
  {
   "cell_type": "code",
   "execution_count": 27,
   "id": "e273cf7d-8868-4c00-98dc-55d6406de81d",
   "metadata": {},
   "outputs": [],
   "source": [
    "def even(a):\n",
    "    even=list(filter( lambda x:x%2==0,a))\n",
    "    print(even)"
   ]
  },
  {
   "cell_type": "code",
   "execution_count": 29,
   "id": "97e93dc2-42f2-4f6e-9c39-0d17fa012356",
   "metadata": {},
   "outputs": [
    {
     "name": "stdout",
     "output_type": "stream",
     "text": [
      "[10, 2, 54]\n"
     ]
    }
   ],
   "source": [
    "a=[10,23,1,2,45,54]\n",
    "even(a)"
   ]
  },
  {
   "cell_type": "code",
   "execution_count": 9,
   "id": "247614a2-eb60-477b-ac72-928400447a36",
   "metadata": {},
   "outputs": [],
   "source": [
    "def incree(a):\n",
    "    return list(map(lambda x:x+5000,a))"
   ]
  },
  {
   "cell_type": "code",
   "execution_count": 11,
   "id": "4b036336-60e7-4ffb-8106-09e4b72acdca",
   "metadata": {},
   "outputs": [
    {
     "data": {
      "text/plain": [
       "[5023, 5045, 5067, 5089, 5008, 5004, 5003, 5023]"
      ]
     },
     "execution_count": 11,
     "metadata": {},
     "output_type": "execute_result"
    }
   ],
   "source": [
    "a=[23,45,67,89,8,4,3,23]\n",
    "incree(a)"
   ]
  },
  {
   "cell_type": "code",
   "execution_count": 21,
   "id": "f779f607-390e-4077-b1c7-122d031aae94",
   "metadata": {},
   "outputs": [
    {
     "name": "stdout",
     "output_type": "stream",
     "text": [
      "True\n"
     ]
    }
   ],
   "source": [
    "age=[20,40,70,33,41,42]\n",
    "result=any(map(lambda x:x==33,age))\n",
    "print(result)"
   ]
  },
  {
   "cell_type": "code",
   "execution_count": 25,
   "id": "c8251254-19f7-4155-a39b-6f492de8842b",
   "metadata": {},
   "outputs": [
    {
     "name": "stdout",
     "output_type": "stream",
     "text": [
      "False\n"
     ]
    }
   ],
   "source": [
    "age=[1,20,40,70,33,41,42]\n",
    "result=all(map(lambda x:x>18,age))\n",
    "print(result)"
   ]
  },
  {
   "cell_type": "code",
   "execution_count": 31,
   "id": "80bf80cf-da9f-4f12-a1c7-4dec1cd9d3c1",
   "metadata": {},
   "outputs": [
    {
     "name": "stdout",
     "output_type": "stream",
     "text": [
      "[2, 4, 6, 8]\n"
     ]
    }
   ],
   "source": [
    "a=[1,2,3,4,5,5,6,7,8]\n",
    "even(a)"
   ]
  },
  {
   "cell_type": "markdown",
   "id": "4efdd5c4-8b7c-4568-b907-62271b9df641",
   "metadata": {},
   "source": [
    "TASK"
   ]
  },
  {
   "cell_type": "code",
   "execution_count": 6,
   "id": "925c010f-9ab7-432b-8727-2a9601ac25ec",
   "metadata": {},
   "outputs": [
    {
     "data": {
      "text/plain": [
       "10"
      ]
     },
     "execution_count": 6,
     "metadata": {},
     "output_type": "execute_result"
    }
   ],
   "source": [
    "x=lambda a,b,c: a+b+c\n",
    "x(1,2,7)"
   ]
  },
  {
   "cell_type": "code",
   "execution_count": 12,
   "id": "eec63d4b-94b6-41cd-b2cf-c7ab698a0694",
   "metadata": {},
   "outputs": [
    {
     "data": {
      "text/plain": [
       "25"
      ]
     },
     "execution_count": 12,
     "metadata": {},
     "output_type": "execute_result"
    }
   ],
   "source": [
    "x=lambda a : a**2\n",
    "x(5)"
   ]
  },
  {
   "cell_type": "code",
   "execution_count": 18,
   "id": "f9883bdd-647f-437f-a089-be067952fa60",
   "metadata": {},
   "outputs": [
    {
     "name": "stdout",
     "output_type": "stream",
     "text": [
      "(5, 10)\n"
     ]
    }
   ],
   "source": [
    "a=[7,5,10,11,13]\n",
    "new=tuple(filter(lambda x:x%5==0,a))\n",
    "print(new)"
   ]
  },
  {
   "cell_type": "code",
   "execution_count": 24,
   "id": "2e79faee-a1e2-4d09-888a-c9188a085b38",
   "metadata": {},
   "outputs": [
    {
     "name": "stdout",
     "output_type": "stream",
     "text": [
      "[1500, 2500, 3500, 4500, 5500, 22500]\n"
     ]
    }
   ],
   "source": [
    "a=[1000,2000,3000,4000,5000,22000]\n",
    "new=list(map(lambda x:x+500,a))\n",
    "print(new)"
   ]
  },
  {
   "cell_type": "code",
   "execution_count": null,
   "id": "864beff1-edd2-44f5-bbdb-51ed302502c2",
   "metadata": {},
   "outputs": [],
   "source": []
  }
 ],
 "metadata": {
  "kernelspec": {
   "display_name": "Python [conda env:base] *",
   "language": "python",
   "name": "conda-base-py"
  },
  "language_info": {
   "codemirror_mode": {
    "name": "ipython",
    "version": 3
   },
   "file_extension": ".py",
   "mimetype": "text/x-python",
   "name": "python",
   "nbconvert_exporter": "python",
   "pygments_lexer": "ipython3",
   "version": "3.12.7"
  }
 },
 "nbformat": 4,
 "nbformat_minor": 5
}
