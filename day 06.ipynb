{
 "cells": [
  {
   "cell_type": "code",
   "execution_count": 16,
   "id": "9020a275-9cad-41a2-88e0-dbf16429b905",
   "metadata": {},
   "outputs": [
    {
     "name": "stdout",
     "output_type": "stream",
     "text": [
      "['abi', 'akash', 'anish']\n"
     ]
    }
   ],
   "source": [
    "name=[\"abi\",\"akash\",\"ram\",\"saron\",\"anish\"]\n",
    "new=[]\n",
    "for i in name:\n",
    "    if i.startswith(\"a\"): ##startswith- to find string starts with __\n",
    "        new.append(i)\n",
    "print(new)\n"
   ]
  },
  {
   "cell_type": "code",
   "execution_count": 18,
   "id": "cfd2782e-d661-4270-acf1-66201175fa57",
   "metadata": {},
   "outputs": [
    {
     "data": {
      "text/plain": [
       "198"
      ]
     },
     "execution_count": 18,
     "metadata": {},
     "output_type": "execute_result"
    }
   ],
   "source": [
    "num=[1,34,56,32,67,8,0]\n",
    "sum(num)"
   ]
  },
  {
   "cell_type": "code",
   "execution_count": 24,
   "id": "5d0b0445-9c72-43a9-a773-2dd6930d11e2",
   "metadata": {},
   "outputs": [
    {
     "name": "stdout",
     "output_type": "stream",
     "text": [
      "198\n"
     ]
    }
   ],
   "source": [
    "num=[1,34,56,32,67,8,0]\n",
    "total=0\n",
    "for i in num:\n",
    "    total=total+i\n",
    "print(total)"
   ]
  },
  {
   "cell_type": "code",
   "execution_count": 26,
   "id": "18daccb1-ff9b-4959-8b76-785223fa1d50",
   "metadata": {},
   "outputs": [
    {
     "data": {
      "text/plain": [
       "6"
      ]
     },
     "execution_count": 26,
     "metadata": {},
     "output_type": "execute_result"
    }
   ],
   "source": [
    "num=[2,4,7,9,0,5]\n",
    "len(num)"
   ]
  },
  {
   "cell_type": "code",
   "execution_count": 28,
   "id": "18587fad-c0e7-4e51-bad6-798c4c2de575",
   "metadata": {},
   "outputs": [
    {
     "name": "stdout",
     "output_type": "stream",
     "text": [
      "6\n"
     ]
    }
   ],
   "source": [
    "num=[2,4,7,9,0,5]\n",
    "count=0\n",
    "for i in num:\n",
    "    count=count+1\n",
    "print(count)"
   ]
  },
  {
   "cell_type": "code",
   "execution_count": 34,
   "id": "faa7b87f-8eb5-4e6c-a790-676132d25359",
   "metadata": {},
   "outputs": [
    {
     "name": "stdout",
     "output_type": "stream",
     "text": [
      "16\n"
     ]
    }
   ],
   "source": [
    "num=[12,13,17,4]\n",
    "total=0\n",
    "for i in num:\n",
    "    if i%2==0:\n",
    "        total=total+i\n",
    "print(total)"
   ]
  },
  {
   "cell_type": "code",
   "execution_count": 50,
   "id": "d3734ee6-bcc1-4f99-bf36-519fdfb97d01",
   "metadata": {},
   "outputs": [
    {
     "name": "stdout",
     "output_type": "stream",
     "text": [
      "157\n"
     ]
    }
   ],
   "source": [
    "num=[3,34,94,57,87,34,1,9,94]\n",
    "total=0\n",
    "for i in num:\n",
    "    if i%2!=0:\n",
    "        total=total+i\n",
    "print(total)\n",
    "        "
   ]
  },
  {
   "cell_type": "code",
   "execution_count": 52,
   "id": "b57019a4-5aa0-491a-ae41-4708b13ba12d",
   "metadata": {},
   "outputs": [
    {
     "data": {
      "text/plain": [
       "157"
      ]
     },
     "execution_count": 52,
     "metadata": {},
     "output_type": "execute_result"
    }
   ],
   "source": [
    "num=[3,57,87,1,9]\n",
    "sum(num)"
   ]
  },
  {
   "cell_type": "code",
   "execution_count": 98,
   "id": "a288ccef-ad70-4526-a982-16f52294fd0f",
   "metadata": {},
   "outputs": [
    {
     "name": "stdout",
     "output_type": "stream",
     "text": [
      "the sum of even numbers are 20\n",
      "count of odd numbers are 3\n"
     ]
    }
   ],
   "source": [
    "num2=[10,2,3,7,11,8]\n",
    "total=0\n",
    "count=0\n",
    "for i in num2:\n",
    "    if i%2==0:\n",
    "        total=total+i                                ##altrnate \n",
    "print(f\"the sum of even numbers are {total}\")\n",
    "for i in num2:\n",
    "    if i%2!=0:\n",
    "         count=count+1\n",
    "print(f\"count of odd numbers are {count}\")"
   ]
  },
  {
   "cell_type": "code",
   "execution_count": 100,
   "id": "0b8139c4-bd44-4d81-9036-bbc7cd172d1e",
   "metadata": {},
   "outputs": [
    {
     "name": "stdout",
     "output_type": "stream",
     "text": [
      "20\n",
      "3\n"
     ]
    }
   ],
   "source": [
    "num2=[10,2,3,7,11,8]\n",
    "total=0\n",
    "count=0\n",
    "for i in num2:\n",
    "    if i%2==0:                ## correct\n",
    "        total=total+i\n",
    "    else :\n",
    "        count=count+1\n",
    "print(total)\n",
    "print(count)"
   ]
  },
  {
   "cell_type": "code",
   "execution_count": 110,
   "id": "53ca5f61-08a2-4f5c-a02e-baf7aec0c611",
   "metadata": {},
   "outputs": [
    {
     "name": "stdout",
     "output_type": "stream",
     "text": [
      "444\n"
     ]
    }
   ],
   "source": [
    "num=[5,8,2,10,-4,34,444,0,-4.5]\n",
    "largest=num[0]\n",
    "for i in num:\n",
    "    if i>largest:\n",
    "        largest=i\n",
    "print(largest)\n"
   ]
  },
  {
   "cell_type": "code",
   "execution_count": 112,
   "id": "f10d3e64-42fa-4a25-a0f2-584109ba86cf",
   "metadata": {},
   "outputs": [
    {
     "name": "stdout",
     "output_type": "stream",
     "text": [
      "444\n"
     ]
    }
   ],
   "source": [
    "num=[5,8,2,10,-4,34,444,0,-4.5]\n",
    "print(max(num))"
   ]
  },
  {
   "cell_type": "markdown",
   "id": "7099dd47-af55-46cd-bf62-1d66fa796f42",
   "metadata": {},
   "source": [
    "TASK:\n",
    "\n",
    "num=[25,13,4,6,15] % of 5 is to sum, %2 find count\n",
    "\n",
    "what is the use of forloop\n",
    "\n",
    "largest number in the list\n",
    "\n",
    "l=[13,17,12,14,24] even and odd will be seperated in diff list\n",
    "\n",
    "name=[a,b,c,d] uppercase\n",
    "\n",
    "j=294000 , sum the even num\n",
    "\n",
    "name=[softlogic], i need to find the how many vowels in the string\n",
    "\n",
    "what is the use of range\n",
    "i need the divisible of 3 from 10 to 20\n",
    "\n"
   ]
  },
  {
   "cell_type": "code",
   "execution_count": 150,
   "id": "86f4379d-f3d1-4b9f-8935-d31810aa93e3",
   "metadata": {},
   "outputs": [
    {
     "name": "stdout",
     "output_type": "stream",
     "text": [
      "1\n",
      "2\n",
      "3\n",
      "4\n",
      "5\n",
      "6\n",
      "7\n"
     ]
    }
   ],
   "source": [
    "for i in range(1,8):\n",
    "    print(i)"
   ]
  },
  {
   "cell_type": "code",
   "execution_count": 1,
   "id": "12efaac3-7aac-49c0-bdaa-9d8129c874b2",
   "metadata": {},
   "outputs": [
    {
     "name": "stdout",
     "output_type": "stream",
     "text": [
      "12\n"
     ]
    }
   ],
   "source": [
    "##converting integer into string to iterate\n",
    "num=209374238693\n",
    "x=str(num)\n",
    "count=0\n",
    "for i in x:\n",
    "    count=count+1\n",
    "print(count)"
   ]
  },
  {
   "cell_type": "code",
   "execution_count": 3,
   "id": "3600bf6d-3803-4fe8-a480-17718be92dc2",
   "metadata": {},
   "outputs": [
    {
     "name": "stdout",
     "output_type": "stream",
     "text": [
      "3\n",
      "3\n"
     ]
    }
   ],
   "source": [
    "k=\"sla123\"\n",
    "letter=0\n",
    "digit=0\n",
    "for i in k:\n",
    "    if i.isalpha():\n",
    "        letter=letter+1\n",
    "    else:\n",
    "        digit=digit+1\n",
    "print(letter)\n",
    "print(digit)"
   ]
  },
  {
   "cell_type": "code",
   "execution_count": 8,
   "id": "57611130-537f-4d7f-bd87-bc57ab18be6c",
   "metadata": {},
   "outputs": [
    {
     "name": "stdout",
     "output_type": "stream",
     "text": [
      "40\n",
      "2\n"
     ]
    }
   ],
   "source": [
    "num=[25,13,4,6,15]\n",
    "total=0\n",
    "count=0\n",
    "for i in num:\n",
    "    if i%5==0:\n",
    "        total=total+i\n",
    "print(total)\n",
    "for i in num:\n",
    "    if i%2==0:\n",
    "        count=count+1\n",
    "print(count)\n",
    "    \n",
    "        "
   ]
  },
  {
   "cell_type": "code",
   "execution_count": null,
   "id": "b4be3846-d610-449b-9306-1e4dd8130e8e",
   "metadata": {},
   "outputs": [],
   "source": [
    "n=[2,4,6,8,3,23,0,1,5]\n",
    "largest=num[0]\n",
    "for i in n:\n",
    "    i>largest\n",
    "    "
   ]
  }
 ],
 "metadata": {
  "kernelspec": {
   "display_name": "Python [conda env:base] *",
   "language": "python",
   "name": "conda-base-py"
  },
  "language_info": {
   "codemirror_mode": {
    "name": "ipython",
    "version": 3
   },
   "file_extension": ".py",
   "mimetype": "text/x-python",
   "name": "python",
   "nbconvert_exporter": "python",
   "pygments_lexer": "ipython3",
   "version": "3.12.7"
  }
 },
 "nbformat": 4,
 "nbformat_minor": 5
}
