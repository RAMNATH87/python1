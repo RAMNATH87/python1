{
 "cells": [
  {
   "cell_type": "code",
   "execution_count": 1,
   "id": "195ce32b-37cf-47c7-9552-799987fa18e0",
   "metadata": {},
   "outputs": [
    {
     "name": "stdout",
     "output_type": "stream",
     "text": [
      "7\n",
      "3\n"
     ]
    }
   ],
   "source": [
    "word=\"chennai@123\"\n",
    "letter_c=0\n",
    "digit_c=0\n",
    "for i in word:\n",
    "    if i.isalpha():\n",
    "        letter_c=letter_c+1\n",
    "    elif i.isdigit():\n",
    "        digit_c=digit_c+1\n",
    "print(letter_c)\n",
    "print(digit_c)"
   ]
  },
  {
   "cell_type": "code",
   "execution_count": 9,
   "id": "2dafd9a3-51cf-4d80-97bb-d12bb826b6b0",
   "metadata": {},
   "outputs": [
    {
     "name": "stdout",
     "output_type": "stream",
     "text": [
      "150\n"
     ]
    }
   ],
   "source": [
    "total=0\n",
    "for i in range(20,41):\n",
    "    if i%5==0:\n",
    "        total=total+i\n",
    "print(total)\n",
    "    "
   ]
  },
  {
   "cell_type": "code",
   "execution_count": 5,
   "id": "bdb70733-c5e9-45ae-bccd-59b3d7dd80a0",
   "metadata": {},
   "outputs": [
    {
     "name": "stdin",
     "output_type": "stream",
     "text": [
      "enter a number 4\n"
     ]
    },
    {
     "name": "stdout",
     "output_type": "stream",
     "text": [
      "24\n"
     ]
    }
   ],
   "source": [
    "num=int(input(\"enter a number\"))\n",
    "fact=1\n",
    "for i in range(1,num+1):\n",
    "    fact=fact*i\n",
    "print(fact)\n"
   ]
  },
  {
   "cell_type": "code",
   "execution_count": 3,
   "id": "79fa609e-9373-4f16-ab5d-8a83bffe4713",
   "metadata": {},
   "outputs": [
    {
     "name": "stdin",
     "output_type": "stream",
     "text": [
      "enter the number 5\n"
     ]
    },
    {
     "name": "stdout",
     "output_type": "stream",
     "text": [
      "prime number\n"
     ]
    }
   ],
   "source": [
    "num=int(input(\"enter the number\"))\n",
    "count=0\n",
    "for i in range(1,num+1):\n",
    "    if num%i==0:\n",
    "        count=count+1\n",
    "if count==2:\n",
    "    print(\"prime number\")\n",
    "else:\n",
    "    print(\"not a prime number\")\n"
   ]
  },
  {
   "cell_type": "code",
   "execution_count": 21,
   "id": "e3fb1258-50ea-4e89-96da-6a426bae9881",
   "metadata": {},
   "outputs": [
    {
     "name": "stdin",
     "output_type": "stream",
     "text": [
      "enter the table you want 2\n"
     ]
    },
    {
     "name": "stdout",
     "output_type": "stream",
     "text": [
      "1 x 2 = 2\n",
      "2 x 2 = 4\n",
      "3 x 2 = 6\n",
      "4 x 2 = 8\n",
      "5 x 2 = 10\n",
      "6 x 2 = 12\n",
      "7 x 2 = 14\n",
      "8 x 2 = 16\n",
      "9 x 2 = 18\n",
      "10 x 2 = 20\n"
     ]
    }
   ],
   "source": [
    "table=int(input(\"enter the table you want\"))\n",
    "for i in range(1,11):\n",
    "    ans=table*i\n",
    "    print(i,\"x\",table,\"=\",ans)"
   ]
  },
  {
   "cell_type": "code",
   "execution_count": 23,
   "id": "55e494a4-b2a9-417c-bbd6-39bc02daa2ae",
   "metadata": {},
   "outputs": [
    {
     "name": "stdin",
     "output_type": "stream",
     "text": [
      "enter a table 2\n"
     ]
    },
    {
     "name": "stdout",
     "output_type": "stream",
     "text": [
      "1 x 2 = 2\n",
      "2 x 2 = 4\n",
      "3 x 2 = 6\n",
      "4 x 2 = 8\n",
      "5 x 2 = 10\n",
      "6 x 2 = 12\n",
      "7 x 2 = 14\n",
      "8 x 2 = 16\n",
      "9 x 2 = 18\n",
      "10 x 2 = 20\n",
      "110\n"
     ]
    }
   ],
   "source": [
    "table=int(input(\"enter a table\"))\n",
    "total=0\n",
    "for i in range(1,11):\n",
    "    ans=table*i\n",
    "    total=total+ans\n",
    "    print(i,\"x\",table,\"=\",ans)\n",
    "print(total)\n",
    "    "
   ]
  },
  {
   "cell_type": "code",
   "execution_count": 37,
   "id": "12bfcec6-bcef-49c3-a0c2-96e6c5fd4051",
   "metadata": {},
   "outputs": [
    {
     "name": "stdin",
     "output_type": "stream",
     "text": [
      "enter a word paalu\n"
     ]
    },
    {
     "name": "stdout",
     "output_type": "stream",
     "text": [
      "paalu is not a palindrome\n"
     ]
    }
   ],
   "source": [
    "word=str(input(\"enter a word\"))\n",
    "rev=\"\"\n",
    "for i in word:\n",
    "    rev=i+rev\n",
    "if word==rev:\n",
    "    print(f\"{word} is palindrome\")\n",
    "else:\n",
    "    print(f\"{word} is not a palindrome\")\n"
   ]
  },
  {
   "cell_type": "code",
   "execution_count": 1,
   "id": "a34daa21-346f-4b65-adce-0f4887d6e657",
   "metadata": {},
   "outputs": [
    {
     "name": "stdin",
     "output_type": "stream",
     "text": [
      "enter a number 371\n"
     ]
    },
    {
     "name": "stdout",
     "output_type": "stream",
     "text": [
      "armstrong number\n"
     ]
    }
   ],
   "source": [
    "num=int(input(\"enter a number\"))\n",
    "str_num=str(num)\n",
    "total=0\n",
    "for i in str_num:\n",
    "    ans=int(i)**len(str_num)\n",
    "    total=total+ans\n",
    "if num==total:\n",
    "    print(\"armstrong number\")\n",
    "else:\n",
    "    print(\"not an armstrong number\")"
   ]
  },
  {
   "cell_type": "code",
   "execution_count": null,
   "id": "7db7d1ca-b500-4dd2-bc0e-95329f59d5ea",
   "metadata": {},
   "outputs": [],
   "source": [
    "TASK\n"
   ]
  }
 ],
 "metadata": {
  "kernelspec": {
   "display_name": "Python [conda env:base] *",
   "language": "python",
   "name": "conda-base-py"
  },
  "language_info": {
   "codemirror_mode": {
    "name": "ipython",
    "version": 3
   },
   "file_extension": ".py",
   "mimetype": "text/x-python",
   "name": "python",
   "nbconvert_exporter": "python",
   "pygments_lexer": "ipython3",
   "version": "3.12.7"
  }
 },
 "nbformat": 4,
 "nbformat_minor": 5
}
