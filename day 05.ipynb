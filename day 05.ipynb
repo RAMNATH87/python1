{
 "cells": [
  {
   "cell_type": "code",
   "execution_count": 1,
   "id": "6f04c28a-8c41-4159-af3b-0ff4a5a79517",
   "metadata": {},
   "outputs": [
    {
     "name": "stdin",
     "output_type": "stream",
     "text": [
      "enter  a season rainy\n",
      "enter the rainy temperature 40\n"
     ]
    },
    {
     "name": "stdout",
     "output_type": "stream",
     "text": [
      "go and eat ice cream\n"
     ]
    }
   ],
   "source": [
    "season=str(input(\"enter  a season\"))\n",
    "if season==\"summer\":\n",
    "    temp=int(input(\"enter the summer temperature\"))\n",
    "    if temp>40:\n",
    "        print(\"drink lot of water\")\n",
    "    else :\n",
    "        print(\"go and play\")\n",
    "elif season==\"rainy\":\n",
    "    temp=int(input(\"enter the rainy temperature\"))\n",
    "    if temp>20:\n",
    "        print(\"go and eat ice cream\")\n",
    "    else :\n",
    "        print(\"take an umbrella\")\n",
    "else:\n",
    "    print(\"enter a valid season\")\n",
    "\n",
    "           "
   ]
  },
  {
   "cell_type": "code",
   "execution_count": 21,
   "id": "e9114019-ea5b-4387-97f9-41312d893230",
   "metadata": {},
   "outputs": [
    {
     "name": "stdin",
     "output_type": "stream",
     "text": [
      "enter the gender female\n",
      "enter the age 18\n"
     ]
    },
    {
     "name": "stdout",
     "output_type": "stream",
     "text": [
      "you are not elidgble\n"
     ]
    }
   ],
   "source": [
    "gender=str(input(\"enter the gender\"))\n",
    "if gender==\"male\":\n",
    "    age=int(input(\"enter the age\"))\n",
    "    if age>45:\n",
    "        print(\"you have morning session and 10% discount\")\n",
    "    elif (age>30) and (age<44):\n",
    "        print(\"you have morning and evening session\")\n",
    "    else:\n",
    "        print(\"you have evening session\")\n",
    "elif gender==\"female\":\n",
    "    age=int(input(\"enter the age\"))\n",
    "    if age>20 and age<35:\n",
    "        print(\"you have morning session\")\n",
    "    elif age>35:\n",
    "        print(\"you have evening session\")\n",
    "    else:\n",
    "        print(\"you are not elidgble\")\n",
    "else:\n",
    "    print(\"enter a valid gender\")\n",
    "    \n",
    "    "
   ]
  },
  {
   "cell_type": "markdown",
   "id": "0af5a4ce-d52c-4771-ac22-0883f1b84f5d",
   "metadata": {},
   "source": [
    "FOR LOOP"
   ]
  },
  {
   "cell_type": "code",
   "execution_count": 24,
   "id": "9e729381-80d8-4bdb-87ab-36f1ea8b1173",
   "metadata": {},
   "outputs": [
    {
     "name": "stdout",
     "output_type": "stream",
     "text": [
      "1\n",
      "2\n",
      "3\n",
      "4\n",
      "5\n",
      "6\n",
      "7\n",
      "8\n",
      "9\n",
      "0\n"
     ]
    }
   ],
   "source": [
    "k=[1,2,3,4,5,6,7,8,9,0]\n",
    "for m in k:\n",
    "    print(m)"
   ]
  },
  {
   "cell_type": "code",
   "execution_count": 32,
   "id": "403830a1-016a-4f41-8605-69b0711a249a",
   "metadata": {},
   "outputs": [
    {
     "name": "stdout",
     "output_type": "stream",
     "text": [
      "2\n",
      "4\n",
      "6\n",
      "8\n",
      "0\n"
     ]
    }
   ],
   "source": [
    "k=[1,2,3,4,5,6,7,8,9,0]\n",
    "for m in k:\n",
    "    if m%2==0:\n",
    "        print(m)"
   ]
  },
  {
   "cell_type": "code",
   "execution_count": 34,
   "id": "91386e24-9d8b-473b-b800-5f870b4e17a7",
   "metadata": {},
   "outputs": [
    {
     "name": "stdout",
     "output_type": "stream",
     "text": [
      "23\n",
      "45\n",
      "67\n",
      "89\n",
      "98\n",
      "32\n",
      "567\n"
     ]
    }
   ],
   "source": [
    "k=[23,45,67,89,2,4,6,98,32,567]\n",
    "for i in k:\n",
    "    if i>10:\n",
    "        print(i)"
   ]
  },
  {
   "cell_type": "code",
   "execution_count": 68,
   "id": "c84f0e79-081e-46c4-9d09-9bc147148688",
   "metadata": {},
   "outputs": [
    {
     "name": "stdout",
     "output_type": "stream",
     "text": [
      "[34, 56, 2, 8, 6, 90]\n"
     ]
    }
   ],
   "source": [
    "k=[1,34,56,2,8,6,3,9,11,90]\n",
    "new=[]\n",
    "for i in k:\n",
    "    if i%2==0:\n",
    "        new.append(i)\n",
    "print(new)    "
   ]
  },
  {
   "cell_type": "markdown",
   "id": "4bb0cd6d-519b-4239-871b-ce46e9f860a5",
   "metadata": {},
   "source": [
    "TASK"
   ]
  },
  {
   "cell_type": "code",
   "execution_count": 43,
   "id": "9fc1d6dc-3859-4651-91a5-e20bca8ae97f",
   "metadata": {},
   "outputs": [
    {
     "name": "stdin",
     "output_type": "stream",
     "text": [
      "enter the temperature 60\n"
     ]
    },
    {
     "name": "stdout",
     "output_type": "stream",
     "text": [
      "water is not boiled\n"
     ]
    }
   ],
   "source": [
    "temp=int(input(\"enter the temperature\"))\n",
    "if temp>=100:\n",
    "    print(\"water is boiled\")\n",
    "else:\n",
    "    print(\"water is not boiled\")\n",
    "    "
   ]
  },
  {
   "cell_type": "code",
   "execution_count": 9,
   "id": "305a6fe3-813c-49ef-8b36-45439e7468af",
   "metadata": {},
   "outputs": [
    {
     "name": "stdin",
     "output_type": "stream",
     "text": [
      "enter the age 60\n"
     ]
    },
    {
     "name": "stdout",
     "output_type": "stream",
     "text": [
      "senior citizen\n"
     ]
    }
   ],
   "source": [
    "age=int(input(\"enter the age\"))\n",
    "if age>=60:\n",
    "    print(\"senior citizen\")\n",
    "elif age<60 and age>19:\n",
    "    print(\"adult\")\n",
    "else:\n",
    "    print(\"teen\")"
   ]
  },
  {
   "cell_type": "code",
   "execution_count": 35,
   "id": "0fac415d-00e7-43f9-bed5-b65e92ed7125",
   "metadata": {},
   "outputs": [
    {
     "name": "stdin",
     "output_type": "stream",
     "text": [
      "enter the password 44444\n"
     ]
    },
    {
     "name": "stdout",
     "output_type": "stream",
     "text": [
      "login\n"
     ]
    }
   ],
   "source": [
    "num=str(input(\"enter the password\"))\n",
    "if len(num)>=5:\n",
    "    print (\"login\")\n",
    "else:\n",
    "    print(\"try again\")\n",
    "\n"
   ]
  },
  {
   "cell_type": "code",
   "execution_count": 45,
   "id": "d7b74d38-e865-4945-988e-45d61f180d3b",
   "metadata": {},
   "outputs": [
    {
     "name": "stdin",
     "output_type": "stream",
     "text": [
      "enter the usename admin\n",
      "enter the password 1234558\n"
     ]
    },
    {
     "name": "stdout",
     "output_type": "stream",
     "text": [
      "wrong password\n"
     ]
    }
   ],
   "source": [
    "name=str(input(\"enter the usename\"))\n",
    "if name==\"admin\":\n",
    "    password=int(input(\"enter the password\"))\n",
    "    if password==12345:\n",
    "        print(\"logged in\")\n",
    "    else:\n",
    "        print(\"wrong password\")\n",
    "else :\n",
    "    print(\"invalid username\")\n",
    "  "
   ]
  },
  {
   "cell_type": "code",
   "execution_count": 53,
   "id": "1e57784a-706c-4adf-8647-53e1a0a3118c",
   "metadata": {},
   "outputs": [
    {
     "name": "stdin",
     "output_type": "stream",
     "text": [
      "enter num1 5\n",
      "enter num2 45\n"
     ]
    },
    {
     "name": "stdout",
     "output_type": "stream",
     "text": [
      "45 is greater than 5\n"
     ]
    }
   ],
   "source": [
    "num1=int(input(\"enter num1\"))\n",
    "num2=int(input(\"enter num2\"))\n",
    "if num1>num2:\n",
    "    print(f\"{num1} is greater {num2}\")\n",
    "else:\n",
    "    print(f\"{num2} is greater than {num1}\")"
   ]
  },
  {
   "cell_type": "code",
   "execution_count": 59,
   "id": "26e1de58-c920-4ff7-bc4f-d520e25df69b",
   "metadata": {},
   "outputs": [
    {
     "name": "stdin",
     "output_type": "stream",
     "text": [
      "enter num1 5\n",
      "enter num2 5\n",
      "enter num3 5\n"
     ]
    },
    {
     "name": "stdout",
     "output_type": "stream",
     "text": [
      "all are aqual\n"
     ]
    }
   ],
   "source": [
    "num1=int(input(\"enter num1\"))\n",
    "num2=int(input(\"enter num2\"))\n",
    "num3=int(input(\"enter num3\"))\n",
    "if num1>num2 and num1>num3:\n",
    "    print(\"num1 is greater\")\n",
    "elif num2>num1 and num2>num3:\n",
    "    print(\"num2 is greater\")\n",
    "elif num3>num1 and num3>num2:\n",
    "    print(\"num3 is greater\")\n",
    "else :\n",
    "    print(\"all are aqual\")"
   ]
  },
  {
   "cell_type": "code",
   "execution_count": 31,
   "id": "376b72e6-fa1a-4b42-a247-8b913d601456",
   "metadata": {},
   "outputs": [
    {
     "name": "stdin",
     "output_type": "stream",
     "text": [
      "enter a number 9\n"
     ]
    },
    {
     "name": "stdout",
     "output_type": "stream",
     "text": [
      "it is divisible by 3\n"
     ]
    }
   ],
   "source": [
    "num=int(input(\"enter a number\"))\n",
    "if (num>10) and (num<25):\n",
    "    if num%2==0:\n",
    "        print(\"even number\")\n",
    "    else:\n",
    "        print(\"odd number\")\n",
    "elif (num<10):\n",
    "    if num%3==0:\n",
    "        print(\"it is divisible by 3\")\n",
    "    else :\n",
    "        print(\"it is not divisible by 3\")\n",
    "else:\n",
    "    if (num%7==0):\n",
    "        print(\"it is divisible by 7\")\n",
    "    else:\n",
    "        print(\"it is not divisible by 7\")\n",
    "        \n",
    "    "
   ]
  },
  {
   "cell_type": "code",
   "execution_count": null,
   "id": "71b56e51-0d9d-47ff-b6b9-bb43dfde14a0",
   "metadata": {},
   "outputs": [],
   "source": []
  }
 ],
 "metadata": {
  "kernelspec": {
   "display_name": "Python [conda env:base] *",
   "language": "python",
   "name": "conda-base-py"
  },
  "language_info": {
   "codemirror_mode": {
    "name": "ipython",
    "version": 3
   },
   "file_extension": ".py",
   "mimetype": "text/x-python",
   "name": "python",
   "nbconvert_exporter": "python",
   "pygments_lexer": "ipython3",
   "version": "3.12.7"
  }
 },
 "nbformat": 4,
 "nbformat_minor": 5
}
