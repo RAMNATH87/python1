{
 "cells": [
  {
   "cell_type": "code",
   "execution_count": 35,
   "id": "c621a6f9-7453-4a7a-b745-908fa3e2a41b",
   "metadata": {},
   "outputs": [
    {
     "name": "stdout",
     "output_type": "stream",
     "text": [
      "father is a pilot\n",
      "father age is 45\n",
      "child age is 15\n"
     ]
    }
   ],
   "source": [
    "kumar=child_one()\n",
    "kumar.occupation()\n",
    "sanjay=father()\n",
    "sanjay.age()\n",
    "kumar.age1()"
   ]
  },
  {
   "cell_type": "code",
   "execution_count": 27,
   "id": "2b8d2558-9dd4-43f6-920c-4559ed65a22c",
   "metadata": {},
   "outputs": [],
   "source": [
    "class father():\n",
    "    def occupation(self):\n",
    "        print(\"father is a pilot\")\n",
    "    def age(self):\n",
    "        print(\"father age is 45\")\n",
    "    def salary(self):\n",
    "        print(\"father salary is 50000\")\n",
    "class child_one(father):\n",
    "    def age1(self):\n",
    "        print(\"child age is 15\")\n",
    "class child_two(father):\n",
    "    def age2(self):\n",
    "        print(\"chlid2 age is 12\")\n",
    "        \n"
   ]
  },
  {
   "cell_type": "code",
   "execution_count": 41,
   "id": "767dd9ee-26e7-47dc-bb99-c2e63774922e",
   "metadata": {},
   "outputs": [
    {
     "name": "stdout",
     "output_type": "stream",
     "text": [
      "child age is 15\n",
      "father age is 45\n",
      "chlid2 age is 12\n"
     ]
    }
   ],
   "source": [
    "kumar.age1()\n",
    "sanjay.age()\n",
    "suresh=child_two()\n",
    "suresh.age2()"
   ]
  },
  {
   "cell_type": "code",
   "execution_count": 71,
   "id": "12c7a7d9-9e15-4b33-be60-f7ac49bfd65f",
   "metadata": {},
   "outputs": [],
   "source": [
    "class father():\n",
    "    def occupation(self):\n",
    "        print(\"father is a pilot\")\n",
    "    def age(self):\n",
    "        print(\"father age is 45\")\n",
    "    def salary(self):\n",
    "        print(\"father salary is 50000\")\n",
    "class child_one(father):\n",
    "    def age1(self):\n",
    "        print(\"child1 age is 15\")\n",
    "class child_two(father):\n",
    "    def age2(self):\n",
    "        print(\"chlid2 age is 12\")\n",
    "class grand_son(child_one):\n",
    "    def age3(self):\n",
    "        print(\"grand son age is 3\")\n",
    "        \n"
   ]
  },
  {
   "cell_type": "code",
   "execution_count": 73,
   "id": "9bc32033-5f77-47c1-a67d-31198f56dfa0",
   "metadata": {},
   "outputs": [],
   "source": [
    "balaji=grand_son()"
   ]
  },
  {
   "cell_type": "code",
   "execution_count": 75,
   "id": "8312a8b9-78d0-4b73-ab7c-12295ed6b922",
   "metadata": {},
   "outputs": [
    {
     "name": "stdout",
     "output_type": "stream",
     "text": [
      "father age is 45\n",
      "father is a pilot\n",
      "father is a pilot\n"
     ]
    }
   ],
   "source": [
    "balaji.age()\n",
    "balaji.occupation()\n",
    "kumar.occupation()"
   ]
  },
  {
   "cell_type": "code",
   "execution_count": 30,
   "id": "60bafe5f-d826-4799-938e-277a9c32529a",
   "metadata": {},
   "outputs": [],
   "source": [
    "class father():\n",
    "    def occupation(self):\n",
    "        print(\"father is a pilot\")\n",
    "    def age(self):\n",
    "        print(\"father age is 45\")\n",
    "    def salary(self):\n",
    "        print(\"father salary is 50000\")\n",
    "class child_one(father):\n",
    "    def age1(self):\n",
    "        print(\"child1 age is 15\")\n",
    "class child_two(father):\n",
    "    def age2(self):\n",
    "        print(\"chlid2 age is 12\")\n",
    "class grand_son(child_one):\n",
    "    def age3(self):\n",
    "        print(\"grand son age is 3\")\n",
    "        \n",
    "class mother():\n",
    "    def occupation_m(self):\n",
    "        print(\"mother is a teacher\")\n",
    "class child4(father,mother):\n",
    "    def age4(self):\n",
    "        print(\"child4 age is 4\")"
   ]
  },
  {
   "cell_type": "code",
   "execution_count": 37,
   "id": "cd9d7cac-5970-4c7b-a6da-a3603cca92fa",
   "metadata": {},
   "outputs": [],
   "source": [
    "ral=child4()"
   ]
  },
  {
   "cell_type": "code",
   "execution_count": 41,
   "id": "e99f2a0f-871d-4dda-8ee9-7b19bfa1ff7b",
   "metadata": {},
   "outputs": [
    {
     "name": "stdout",
     "output_type": "stream",
     "text": [
      "father age is 45\n"
     ]
    }
   ],
   "source": [
    "ral.age()"
   ]
  },
  {
   "cell_type": "code",
   "execution_count": 52,
   "id": "98ebb624-b476-4da9-8c2e-319a51ea024d",
   "metadata": {},
   "outputs": [
    {
     "name": "stdout",
     "output_type": "stream",
     "text": [
      "86\n"
     ]
    }
   ],
   "source": [
    "num=[2,34,5,67,86,4,3]\n",
    "largest=num[0]\n",
    "for i in num:\n",
    "    if i>largest:\n",
    "        largest=i\n",
    "print(largest)\n",
    "    "
   ]
  },
  {
   "cell_type": "code",
   "execution_count": 64,
   "id": "e28385e6-752b-4412-a70e-ab7b0cc20f58",
   "metadata": {},
   "outputs": [
    {
     "name": "stdin",
     "output_type": "stream",
     "text": [
      "enter a word lol\n"
     ]
    },
    {
     "name": "stdout",
     "output_type": "stream",
     "text": [
      "palindrome\n"
     ]
    }
   ],
   "source": [
    "word=(input(\"enter a word\"))\n",
    "rev=\"\"\n",
    "for i in word:\n",
    "    rev=i+rev\n",
    "if rev==word:\n",
    "        print(\"palindrome\")\n",
    "else:\n",
    "        print(\"not a palindrome\")\n",
    "    "
   ]
  },
  {
   "cell_type": "markdown",
   "id": "6dcfefbb-582b-4795-96ea-17d038c22176",
   "metadata": {},
   "source": [
    "TASK"
   ]
  },
  {
   "cell_type": "code",
   "execution_count": 20,
   "id": "3f555498-63a4-4797-b85e-19fe8df6aeb2",
   "metadata": {},
   "outputs": [],
   "source": [
    "class branch1():\n",
    "    def DA(self):\n",
    "        print(\"python,sql,powerbi\")\n",
    "    def DS(self):\n",
    "        print(\"ML,DL,AI,PYTHON\")\n",
    "    def JAVA(self):\n",
    "        print(\"java,sprigboot,sql,HTML\")\n",
    "    def python(self):\n",
    "        print(\"python,sql,django,html\")\n",
    "class branch2(branch1):\n",
    "    def cloud_computing(self):\n",
    "        print(\"AWS,DEVOPS\")\n",
    "    "
   ]
  },
  {
   "cell_type": "code",
   "execution_count": 26,
   "id": "b873fd81-c683-49df-b6a9-43580dd439c7",
   "metadata": {},
   "outputs": [
    {
     "name": "stdout",
     "output_type": "stream",
     "text": [
      "python,sql,django,html\n"
     ]
    }
   ],
   "source": [
    "navalur=branch2()\n",
    "kknagar=branch1()\n",
    "navalur.python()\n",
    "\n"
   ]
  },
  {
   "cell_type": "code",
   "execution_count": 60,
   "id": "b5276d67-6e3c-4de1-9595-d227ffffebd7",
   "metadata": {},
   "outputs": [],
   "source": [
    "class main():\n",
    "    def tata(self):\n",
    "        print(\"nexon,harrier\")\n",
    "    def hyundai(self):\n",
    "        print(\"creta,i20\")\n",
    "    def ford(self):\n",
    "        print(\"ecosport,endeavour\")\n",
    "    def sportscar(self):\n",
    "        print(\"ferrari,jaguar\")\n",
    "class chennai(main):\n",
    "    def suzuki(self):\n",
    "        print(\"swift,baleno\")\n",
    "class s_chennai(chennai):\n",
    "    def ford(self):\n",
    "        print(\"ecosport\")\n",
    "class madurai(main):\n",
    "    def sportscar(self):\n",
    "        print(\"no sports car\")\n",
    "class salem(chennai,main):\n",
    "    def tata(self):\n",
    "        print(\"nexon\")"
   ]
  },
  {
   "cell_type": "code",
   "execution_count": 74,
   "id": "9a0ee2f3-da2a-472a-bc56-4e604d8ad472",
   "metadata": {},
   "outputs": [
    {
     "name": "stdout",
     "output_type": "stream",
     "text": [
      "nexon,harrier\n",
      "ecosport\n",
      "no sports car\n"
     ]
    }
   ],
   "source": [
    "main2=chennai()\n",
    "main2.tata()\n",
    "main3=s_chennai()\n",
    "main3.ford()\n",
    "main4=madurai()\n",
    "main4.sportscar()"
   ]
  },
  {
   "cell_type": "code",
   "execution_count": null,
   "id": "4be037c1-cd08-4fd1-8668-5bfaacae163b",
   "metadata": {},
   "outputs": [],
   "source": []
  },
  {
   "cell_type": "code",
   "execution_count": null,
   "id": "59e9d7fa-99b0-4047-bcd7-a624aadd5ccd",
   "metadata": {},
   "outputs": [],
   "source": []
  },
  {
   "cell_type": "code",
   "execution_count": null,
   "id": "43fccc72-2068-442b-ba65-9ffb8964e6ef",
   "metadata": {},
   "outputs": [],
   "source": []
  },
  {
   "cell_type": "code",
   "execution_count": null,
   "id": "d28bed12-57b9-428e-bd2f-be19ab2a3428",
   "metadata": {},
   "outputs": [],
   "source": []
  },
  {
   "cell_type": "code",
   "execution_count": null,
   "id": "478ce8ef-af22-4356-9096-b31618edf50b",
   "metadata": {},
   "outputs": [],
   "source": []
  },
  {
   "cell_type": "code",
   "execution_count": null,
   "id": "78cfad6b-a63b-40d4-989a-6085813bbe95",
   "metadata": {},
   "outputs": [],
   "source": []
  },
  {
   "cell_type": "code",
   "execution_count": null,
   "id": "9359f09a-a263-4e41-8fda-1a2b677261c0",
   "metadata": {},
   "outputs": [],
   "source": []
  },
  {
   "cell_type": "code",
   "execution_count": null,
   "id": "6eb489da-0892-4c82-a245-ecb10be7a607",
   "metadata": {},
   "outputs": [],
   "source": []
  },
  {
   "cell_type": "code",
   "execution_count": null,
   "id": "7ecb4ecc-7057-4052-877d-3f0d86e64ea7",
   "metadata": {},
   "outputs": [],
   "source": []
  },
  {
   "cell_type": "code",
   "execution_count": null,
   "id": "3cc78d74-933f-497a-90d7-193f3e7051c9",
   "metadata": {},
   "outputs": [],
   "source": []
  },
  {
   "cell_type": "code",
   "execution_count": null,
   "id": "dc209cf3-9a7a-439e-9990-634602e06318",
   "metadata": {},
   "outputs": [],
   "source": []
  }
 ],
 "metadata": {
  "kernelspec": {
   "display_name": "Python [conda env:base] *",
   "language": "python",
   "name": "conda-base-py"
  },
  "language_info": {
   "codemirror_mode": {
    "name": "ipython",
    "version": 3
   },
   "file_extension": ".py",
   "mimetype": "text/x-python",
   "name": "python",
   "nbconvert_exporter": "python",
   "pygments_lexer": "ipython3",
   "version": "3.12.7"
  }
 },
 "nbformat": 4,
 "nbformat_minor": 5
}
